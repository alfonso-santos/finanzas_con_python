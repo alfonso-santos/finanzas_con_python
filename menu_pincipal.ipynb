{
 "cells": [
  {
   "cell_type": "markdown",
   "metadata": {},
   "source": [
    "# Introducción a Python para las Finanzas 3ª Edición.\n",
    "\n",
    "\n",
    "\n",
    "<center>\n",
    "<img src=\"./1_introduccion/imgs/python-logo.png\"  alt=\"drawing\" width=\"500\"/>\n",
    "<img src=\"./1_introduccion/imgs/UAM-Logo.png\"  alt=\"drawing\" width=\"400\"/>\n",
    "</center>\n",
    "\n",
    "\n",
    "**PROFESORES:**\n",
    "\n",
    "- [Fernando Úbeda](https://www.uam.es/Economicas/%C3%9Abeda-Mellina,-Fernando/1234888497623.htm?language=es&pid=1234888496695&title=?beda%20Mellina,%20Fernando). Profesor Titular Dpto Financiación e Investigación Comercial. Facultad Económicas y Empresariales. Universidad Autónoma de Madrid.\n",
    "\n",
    "- [Alfonso Santos](https://www.uam.es/Economicas/santos-ramon-alfonso/1242667903456.htm?language=es&pid=1242653687745&title=Santos%20Ram?n%20Alfonso). Profesor Asociado Dpto Financiación e Investigación Comercial. Facultad Económicas y Empresariales. Universidad Autónoma de Madrid. Master de IA aplicado a los Mercados Financieros del Instituto  BME\n",
    "\n",
    "\n",
    "- [Pedro Ventura](https://www.linkedin.com/in/pedro-ram%C3%B3n-ventura-g%C3%B3mez-277b113b/). Director TI de March Asset Management y Profesor en el Master de IA aplicado a los Mercados Financieros del Instituto  BME\n",
    "\n",
    "- [Christian Oliva](https://www.linkedin.com/in/christian-oliva-moya-ingeniero/?originalSubdomain=es). Profesor ayudante. Grupo de neurocomputación biológica. Departamento de Ingeniería Informática  EPS-UAM. Profesor en el Master de IA aplicado a los Mercados Financieros del Instituto  BME\n"
   ]
  },
  {
   "cell_type": "markdown",
   "metadata": {},
   "source": [
    "## Módulo 1: Introducción\n",
    "* [1.1](1_introduccion/1_1_Intro.ipynb) Introducción\n",
    "* [1.2](1_introduccion/1_2_IDE.ipynb) IDEs\n",
    "* [1.3](1_introduccion/1_0_google_colaboratory.ipynb) Google Colaboratory\n",
    "\n",
    "\n",
    "\n",
    "* [Anexo](1_introduccion/1_1_instalacion.ipynb) Instalación"
   ]
  },
  {
   "cell_type": "markdown",
   "metadata": {},
   "source": [
    "## Módulo 2: Core de python\n",
    "\n",
    "* [2.1](2_python_core/2_1_syntaxis.ipynb) Sintaxis básica\n",
    "\n",
    "* [2.2](2_python_core/2_2_variables.ipynb) Variables\n",
    "\n",
    "* [2.3](2_python_core/2_3_operadores.ipynb) Operadores\n",
    "\n",
    "* [2.4](2_python_core/2_4_funciones_incorporadas.ipynb) Funciones incorporadas\n",
    "\n",
    "* [2.5](2_python_core/2_5_strings.ipynb) Strings\n",
    "\n",
    "* [2.6](2_python_core/2_6_listas_y_tuplas.ipynb) Listas y tuplas\n",
    "\n",
    "* [2.7](2_python_core/2_7_diccionarios.ipynb) Diccionarios\n",
    "\n",
    "* [2.8](2_python_core/2_8_condicionales_y_bucles.ipynb) Condicionales y bucles\n",
    "\n",
    "* [2.9](2_python_core/2_9_funciones.ipynb) Funciones\n",
    "\n",
    "* [2.10](2_python_core/2_10_modulos_y_scripts.ipynb) Modulos y scripts\n",
    "\n",
    "* **EJERCICIOS:**\n",
    "    * [Ejercicios Clase1](Ejercicios/Ejercicios-Clase1.ipynb) Apartados 2.1 Sintaxis básica, 2.2 Variables y 2.3 Operadores\n",
    "\n",
    "    * [Ejercicios Clase2](Ejercicios/Ejercicios-Clase2.ipynb) Apartados 2.4 Funciones incorporadas y 2.5 Strings\n"
   ]
  },
  {
   "cell_type": "markdown",
   "metadata": {},
   "source": [
    "## Módulo 3: Numpy\n",
    "\n",
    "* [3.1](3_numpy/3_1_array.ipynb) Array\n",
    "\n",
    "* [3.2](3_numpy/3_2_operaciones_matematicas_y_estadistica.ipynb) Matemáticas y estadística\n",
    "\n",
    "* [3.3](3_numpy/3_3_operaciones_algebraicas.ipynb) Álgebra\n",
    "\n",
    "* [3.4](3_numpy/3_4_numeros_aletorios.ipynb) Números aleatorios\n",
    "\n",
    "* [3.5](3_numpy/3_5_funciones.ipynb) Funciones\n"
   ]
  },
  {
   "cell_type": "markdown",
   "metadata": {},
   "source": [
    "## Módulo 4: Introducción a la librería Pandas\n",
    "\n",
    "* [4.1](4_pandas/4_1_Creación_Series_Dataframes.ipynb) Definición y creación de las estructuras de datos Series y DataFrames\n",
    "\n",
    "* [4.2](4_pandas/4_2_indexación_slicing.ipynb) Indexación y slicing\n",
    "\n",
    "* [4.3](4_pandas/4_3_reindexación.ipynb) Reindexación\n",
    "\n",
    "* [4.4](4_pandas/4_4_operaciones_aritméticas.ipynb) Operaciones aritméticas\n",
    "\n",
    "* [4.5](4_pandas/4_5_visualización_básica.ipynb) Visualización básica\n",
    "\n",
    "* [4.6](4_pandas/4_6_funciones_mapping.ipynb) Aplicación de funciones y mapping\n",
    "\n",
    "* [4.7](4_pandas/4_7_combinar_juntar.ipynb) Combinar, juntar y agrupar\n",
    "\n",
    "* [4.8](4_pandas/4_8_ejemplos_financieros.ipynb) Ejemplos financieros\n",
    "    \n"
   ]
  },
  {
   "cell_type": "markdown",
   "metadata": {},
   "source": [
    "## Módulo 5: Tratamiento de series temporales\n",
    "\n",
    "* [5.1](5_series_temporales/5_1_time_structures.ipynb) Estructuras de tiempo nativas y de pandas\n",
    "\n",
    "* [5.2](5_series_temporales/5_2_indexación_rangos.ipynb) Indexación, selección y rangos\n",
    "\n",
    "* [5.3](5_series_temporales/5_3_offsets_shift.ipynb) Índices duplicados, offsets y desplazamiento\n",
    "\n",
    "* [5.4](5_series_temporales/5_4_resampling.ipynb) Remuestreo, donwsampling, OHLC\n",
    "\n",
    "* [5.5](5_series_temporales/5_5_ventanas_moviles.ipynb) Ventanas móviles\n"
   ]
  },
  {
   "cell_type": "markdown",
   "metadata": {},
   "source": [
    "## Módulo 6:  Visualización y tratamiento de datos\n",
    "\n",
    "* [6.1](6_visualizacion_y_tratamiento_de_datos\\6_1_visualizacion_matplotlib.ipynb) Visualización Matplotlib\n",
    "\n",
    "* [6.2](6_visualizacion_y_tratamiento_de_datos\\6_2_visualizacion_seaborn.ipynb) Visualización Seaborn\n",
    "\n",
    "* [6.3](6_visualizacion_y_tratamiento_de_datos\\6_3_visualizacion_plotly.ipynb) Visualización Plotly\n",
    "\n",
    "* [6.4](6_visualizacion_y_tratamiento_de_datos\\6_4_lectura_y_escritura.ipynb) Lectura y escritura de archivos\n",
    "\n",
    "* [6.5](6_visualizacion_y_tratamiento_de_datos\\6_5_preparacion_y_limpieza.ipynb) Preparación y limpieza de datos"
   ]
  },
  {
   "cell_type": "markdown",
   "metadata": {},
   "source": [
    "## Módulo 7: Análisis descriptivo de la información bursatil"
   ]
  },
  {
   "cell_type": "markdown",
   "metadata": {},
   "source": [
    "## Módulo 8: Estrategias básicas de trading"
   ]
  },
  {
   "cell_type": "markdown",
   "metadata": {},
   "source": [
    "## Módulo 9: Análisis Fundamental de empresas"
   ]
  },
  {
   "cell_type": "markdown",
   "metadata": {},
   "source": [
    "## ANEXO: EJERCICIOS RESUELTOS:\n",
    "\n",
    "* [Ejercicios Clase1 RESUELTOS](Ejercicios/Ejercicios-Clase1-SOLUCION.ipynb)\n",
    "\n",
    "* [Ejercicios Clase2 RESUELTOS](Ejercicios/Ejercicios-Clase2-SOLUCION.ipynb)"
   ]
  },
  {
   "cell_type": "markdown",
   "metadata": {},
   "source": []
  }
 ],
 "metadata": {
  "kernelspec": {
   "display_name": "Python 3.9.12 ('base')",
   "language": "python",
   "name": "python3"
  },
  "language_info": {
   "codemirror_mode": {
    "name": "ipython",
    "version": 3
   },
   "file_extension": ".py",
   "mimetype": "text/x-python",
   "name": "python",
   "nbconvert_exporter": "python",
   "pygments_lexer": "ipython3",
   "version": "3.9.12"
  },
  "orig_nbformat": 4,
  "vscode": {
   "interpreter": {
    "hash": "18a6b418ca989a304418b74e14b57df096d22507d5bd0d85ac6f17ef362aab2d"
   }
  }
 },
 "nbformat": 4,
 "nbformat_minor": 2
}
