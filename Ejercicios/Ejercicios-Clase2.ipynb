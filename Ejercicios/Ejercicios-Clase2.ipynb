{
 "cells": [
  {
   "cell_type": "markdown",
   "id": "d36e5411",
   "metadata": {},
   "source": [
    "# Ejercicios - Clase 2"
   ]
  },
  {
   "cell_type": "markdown",
   "id": "cba93d75",
   "metadata": {},
   "source": [
    "Ejercicios de los bloques de introducción a python. Funciones incorporadas y strings.\n",
    "\n",
    "**Versión**: 1.0\n",
    "\n",
    "**Fecha**: 06/10/2023"
   ]
  },
  {
   "cell_type": "markdown",
   "id": "091ef654",
   "metadata": {},
   "source": [
    "## Ejercicio 1"
   ]
  },
  {
   "cell_type": "markdown",
   "id": "6bcc5f7f",
   "metadata": {},
   "source": [
    "Vamos a definir el `area` de un triángulo. Esta vez, en vez de definiendo las variables `base` y `altura`, pidiéndoselas al usuario por teclado usando la función `input`."
   ]
  },
  {
   "cell_type": "code",
   "execution_count": null,
   "id": "11ac44a9",
   "metadata": {},
   "outputs": [],
   "source": [
    "# TO-DO rellena esta celda pidiendo los valores de la base y altura y calculando el area\n"
   ]
  },
  {
   "cell_type": "code",
   "execution_count": null,
   "id": "50e960c9",
   "metadata": {},
   "outputs": [],
   "source": [
    "print(\"El área de un triángulo con base {:.2f} y altura {:.2f} es {:.2f}\".format(base, altura, area))"
   ]
  },
  {
   "cell_type": "markdown",
   "id": "1661e45e",
   "metadata": {},
   "source": [
    "Ejemplos de ejecución:\n",
    "\n",
    "- El área de un triángulo con base 1.50 y altura 2.20 es 1.65\n",
    "- El área de un triángulo con base 3.20 y altura 0.50 es 0.80\n",
    "- El área de un triángulo con base 5.10 y altura 2.70 es 6.88"
   ]
  },
  {
   "cell_type": "markdown",
   "id": "28d17416",
   "metadata": {},
   "source": [
    "## Ejercicio 2"
   ]
  },
  {
   "cell_type": "markdown",
   "id": "cd23195c",
   "metadata": {},
   "source": [
    "Vamos a crear un dado de 6 caras. Para ello, buscad en la librería <a href=\"https://docs.python.org/3/library/random.html\">RANDOM</a> alguna función que podáis utilizar."
   ]
  },
  {
   "cell_type": "code",
   "execution_count": null,
   "id": "1020e95c",
   "metadata": {},
   "outputs": [],
   "source": [
    "import random\n",
    "# TO-DO rellena esta celda calculando un valor aleatorio.\n",
    "\n",
    "\n",
    "print(\"Has lanzado el dado y has obtenido: {}\".format(dado))"
   ]
  },
  {
   "cell_type": "markdown",
   "id": "7c3ea9a6",
   "metadata": {},
   "source": [
    "¿Has probado a ejecutar varias veces la celda? Cada vez que usas alguna función de RANDOM generas nuevos números aleatorios."
   ]
  },
  {
   "cell_type": "markdown",
   "id": "19c0750c",
   "metadata": {},
   "source": [
    "## Ejercicio 3"
   ]
  },
  {
   "cell_type": "markdown",
   "id": "8e0b4e39",
   "metadata": {},
   "source": [
    "Seguimos con la librería <a href=\"https://docs.python.org/3/library/random.html\">RANDOM</a>. Vamos a simular una decisión que dirá True un 5\\% de las veces. La función `random.random()` devuelve un número entre 0 y 1. Por tanto, podría utilizarse como probabilidad. Usa los nombres de variables `p` y `decision` para que el print sea correcto."
   ]
  },
  {
   "cell_type": "code",
   "execution_count": null,
   "id": "d5f71418",
   "metadata": {},
   "outputs": [],
   "source": [
    "import random\n",
    "# TO-DO rellena esta celda con el cálculo de la probabilidad p y la decisión que se toma\n"
   ]
  },
  {
   "cell_type": "code",
   "execution_count": null,
   "id": "1a7a1126",
   "metadata": {},
   "outputs": [],
   "source": [
    "print(\"El resultado ha salido con una probabilidad {:.6f}. Por tanto, decide: {}\".format(p, decision))"
   ]
  },
  {
   "cell_type": "markdown",
   "id": "fcd49a1e",
   "metadata": {},
   "source": [
    "Ejemplos de ejecución:\n",
    "\n",
    "- El resultado ha salido con una probabilidad 0.972191. Por tanto, decide: False\n",
    "- El resultado ha salido con una probabilidad 0.830116. Por tanto, decide: False\n",
    "- El resultado ha salido con una probabilidad 0.039205. Por tanto, decide: True"
   ]
  },
  {
   "cell_type": "markdown",
   "id": "6e0b0c3d",
   "metadata": {},
   "source": [
    "## Ejercicio 4"
   ]
  },
  {
   "cell_type": "markdown",
   "id": "857a8187",
   "metadata": {},
   "source": [
    "A partir de una cadena de texto (sin saltos de línea), vamos a contar cuántas palabras tiene. Guardad el número de palabras en la variable `n_palabras`."
   ]
  },
  {
   "cell_type": "code",
   "execution_count": null,
   "id": "581c2c2b",
   "metadata": {},
   "outputs": [],
   "source": [
    "cadena = \"Lorem ipsum dolor sit amet, consectetur adipiscing elit, sed do eiusmod tempor incididunt ut labore et dolore magna aliqua. Ut enim ad minim veniam, quis nostrud exercitation ullamco laboris nisi ut aliquip ex ea commodo consequat. Duis aute irure dolor in reprehenderit in voluptate velit esse cillum dolore eu fugiat nulla pariatur. Excepteur sint occaecat cupidatat non proident, sunt in culpa qui officia deserunt mollit anim id est laborum.\""
   ]
  },
  {
   "cell_type": "code",
   "execution_count": null,
   "id": "b7df2f34",
   "metadata": {},
   "outputs": [],
   "source": [
    "# TO-DO calcula el número de palabras que tiene la cadena\n"
   ]
  },
  {
   "cell_type": "code",
   "execution_count": null,
   "id": "5de7763c",
   "metadata": {},
   "outputs": [],
   "source": [
    "print(\"La cadena tiene {} palabras\".format(n_palabras))"
   ]
  },
  {
   "cell_type": "markdown",
   "id": "fc984cd0",
   "metadata": {},
   "source": [
    "Respuesta esperada:\n",
    "\n",
    "- La cadena tiene 69 palabras"
   ]
  },
  {
   "cell_type": "code",
   "execution_count": null,
   "id": "656eaa3e",
   "metadata": {},
   "outputs": [],
   "source": []
  }
 ],
 "metadata": {
  "kernelspec": {
   "display_name": "Python 3 (ipykernel)",
   "language": "python",
   "name": "python3"
  },
  "language_info": {
   "codemirror_mode": {
    "name": "ipython",
    "version": 3
   },
   "file_extension": ".py",
   "mimetype": "text/x-python",
   "name": "python",
   "nbconvert_exporter": "python",
   "pygments_lexer": "ipython3",
   "version": "3.11.4"
  }
 },
 "nbformat": 4,
 "nbformat_minor": 5
}
