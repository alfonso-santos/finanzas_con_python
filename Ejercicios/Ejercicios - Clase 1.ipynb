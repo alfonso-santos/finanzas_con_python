{
 "cells": [
  {
   "cell_type": "markdown",
   "id": "d36e5411",
   "metadata": {},
   "source": [
    "# Ejercicios - Clase 1"
   ]
  },
  {
   "cell_type": "markdown",
   "id": "cba93d75",
   "metadata": {},
   "source": [
    "Ejercicios de los bloques de introducción a python.\n",
    "\n",
    "**Versión**: 1.0\n",
    "\n",
    "**Fecha**: 06/10/2023"
   ]
  },
  {
   "cell_type": "markdown",
   "id": "091ef654",
   "metadata": {},
   "source": [
    "## Ejercicio 1"
   ]
  },
  {
   "cell_type": "markdown",
   "id": "6bcc5f7f",
   "metadata": {},
   "source": [
    "Vamos a definir el `area` de un triángulo. Define dos variables `base` y `altura` con valores positivos y calcula el área a partir de ellas."
   ]
  },
  {
   "cell_type": "code",
   "execution_count": null,
   "id": "11ac44a9",
   "metadata": {},
   "outputs": [],
   "source": [
    "# TO-DO rellena esta celda definiendo las variables base y altura y calculando el area\n"
   ]
  },
  {
   "cell_type": "code",
   "execution_count": null,
   "id": "50e960c9",
   "metadata": {
    "scrolled": false
   },
   "outputs": [],
   "source": [
    "print(\"El área de un triángulo con base {:.2f} y altura {:.2f} es {:.2f}\".format(base, altura, area))"
   ]
  },
  {
   "cell_type": "markdown",
   "id": "1661e45e",
   "metadata": {},
   "source": [
    "Ejemplos de ejecución:\n",
    "\n",
    "- El área de un triángulo con base 1.50 y altura 2.20 es 1.65\n",
    "- El área de un triángulo con base 3.20 y altura 0.50 es 0.80\n",
    "- El área de un triángulo con base 5.10 y altura 2.70 es 6.88"
   ]
  },
  {
   "cell_type": "markdown",
   "id": "29c44d8d",
   "metadata": {},
   "source": [
    "## Ejercicio 2"
   ]
  },
  {
   "cell_type": "markdown",
   "id": "7b0b9443",
   "metadata": {},
   "source": [
    "Vamos a comprobar si un triángulo es grande o pequeño a partir de su `area`. Un triángulo es grande cuando tiene un área mayor que 5m². Define el siguiente print para que nos indique si es grande o no."
   ]
  },
  {
   "cell_type": "code",
   "execution_count": null,
   "id": "8ace8d35",
   "metadata": {},
   "outputs": [],
   "source": [
    "# TO-DO rellena esta celda con un print con el formato adecuado\n"
   ]
  },
  {
   "cell_type": "markdown",
   "id": "5e0d62ef",
   "metadata": {},
   "source": [
    "Ejemplos de ejecución:\n",
    "\n",
    "- ¿Es un triángulo con base 1.50 y altura 2.20 grande? False\n",
    "- ¿Es un triángulo con base 3.20 y altura 0.50 grande? False\n",
    "- ¿Es un triángulo con base 5.10 y altura 2.70 grande? True"
   ]
  },
  {
   "cell_type": "markdown",
   "id": "8236c1de",
   "metadata": {},
   "source": [
    "## Ejercicio 3"
   ]
  },
  {
   "cell_type": "markdown",
   "id": "16aeb615",
   "metadata": {},
   "source": [
    "Vamos a comprobar si un número es par o no. Para ello, define un número `n` entero positivo y guarda el resultado de la comprobación en la variable `is_even`."
   ]
  },
  {
   "cell_type": "code",
   "execution_count": null,
   "id": "9fe45c61",
   "metadata": {},
   "outputs": [],
   "source": [
    "# TO-DO rellena esta celda con la definición de la variables n y is_even\n"
   ]
  },
  {
   "cell_type": "code",
   "execution_count": null,
   "id": "c7aa9836",
   "metadata": {},
   "outputs": [],
   "source": [
    "print(\"¿Es el número {} par? {}\".format(n, is_even))"
   ]
  },
  {
   "cell_type": "markdown",
   "id": "7b255dab",
   "metadata": {},
   "source": [
    "Ejemplos de ejecución:\n",
    "\n",
    "- ¿Es el número 4 par? True\n",
    "- ¿Es el número 9 par? False"
   ]
  },
  {
   "cell_type": "markdown",
   "id": "a3d591d3",
   "metadata": {},
   "source": [
    "## Ejercicio 4"
   ]
  },
  {
   "cell_type": "markdown",
   "id": "b92823e6",
   "metadata": {},
   "source": [
    "Ahora vamos a comprobar si una variable está en el intervalo \\[a, b). Para ello, define las variables `a`, `b` y el número `n` a comprobar. El resultado de la comprobación deberá guardarse en la variable `is_in_interval`. Además, nos aseguraremos de que `a` < `b`."
   ]
  },
  {
   "cell_type": "code",
   "execution_count": null,
   "id": "c63cdf6d",
   "metadata": {},
   "outputs": [],
   "source": [
    "# TO-DO rellena esta celda con la definición de las variables a, b, n y is_in_interval\n"
   ]
  },
  {
   "cell_type": "code",
   "execution_count": null,
   "id": "688a53e8",
   "metadata": {},
   "outputs": [],
   "source": [
    "assert a < b, \"El intervalo está mal definido\" # ¿Qué crees que hace el comando assert?\n",
    "print(\"¿El número {} está en el intervalo [{}, {})? {}\".format(n, a, b, is_in_interval))"
   ]
  },
  {
   "cell_type": "markdown",
   "id": "8ce829de",
   "metadata": {},
   "source": [
    "Ejemplos de ejecución:\n",
    "\n",
    "- ¿El número 7 está en el intervalo \\[5, 10)? True\n",
    "- ¿El número 5 está en el intervalo \\[5, 10)? True\n",
    "- ¿El número 4.9999 está en el intervalo \\[5, 10)? False\n",
    "- ¿El número 10 está en el intervalo \\[5, 10)? False\n",
    "\n",
    "¿Has probado como funciona el `assert`? Si pruebas `a = 11` y `b = 10` debería dar como respuesta:\n",
    "\n",
    "- AssertionError: El intervalo está mal definido"
   ]
  }
 ],
 "metadata": {
  "kernelspec": {
   "display_name": "Python 3 (ipykernel)",
   "language": "python",
   "name": "python3"
  },
  "language_info": {
   "codemirror_mode": {
    "name": "ipython",
    "version": 3
   },
   "file_extension": ".py",
   "mimetype": "text/x-python",
   "name": "python",
   "nbconvert_exporter": "python",
   "pygments_lexer": "ipython3",
   "version": "3.11.4"
  }
 },
 "nbformat": 4,
 "nbformat_minor": 5
}
