{
 "cells": [
  {
   "cell_type": "markdown",
   "metadata": {},
   "source": [
    "# Estructura de Python\n",
    "<center>\n",
    "<img src=\"./imgs/scipy_ecosystem.png\"  alt=\"drawing\" width=\"75%\"/>\n",
    "</center>"
   ]
  },
  {
   "cell_type": "markdown",
   "metadata": {},
   "source": [
    "# IDE"
   ]
  },
  {
   "cell_type": "markdown",
   "metadata": {},
   "source": [
    "## ¿Qué es un ide?\n",
    "- IDE son las siglas de Integrated Development Enviroment, es decir, donde vamos a programar. Por lo general tienen ayudar visuales para identificar las funciones, variables .....etc\n",
    "- En general se usan para programar de forma más sencilla\n",
    "- En este curso el IDE que usaremos será  JupyterLab, pero existen muchos más.\n",
    "<center>\n",
    "<img src=\"./imgs/jupyter_lab_1.png\"  alt=\"drawing\" width=\"90%\"/>\n",
    "</center>"
   ]
  },
  {
   "cell_type": "code",
   "execution_count": null,
   "metadata": {
    "vscode": {
     "languageId": "plaintext"
    }
   },
   "outputs": [],
   "source": [
    "getwd"
   ]
  },
  {
   "cell_type": "markdown",
   "metadata": {},
   "source": [
    " * Si en windows extieran problemas de permisos ejecutar en una termial con permisos de administración los siguientes comandos:\n",
    "  \n",
    "  get-ExecutionPolicy\n",
    "  \n",
    "  \n",
    "  Set-ExecutionPolicy Unrestricted"
   ]
  }
 ],
 "metadata": {
  "kernelspec": {
   "display_name": "Python 3.8.8 ('base')",
   "language": "python",
   "name": "python3"
  },
  "language_info": {
   "name": "python",
   "version": "3.8.8"
  },
  "orig_nbformat": 4,
  "vscode": {
   "interpreter": {
    "hash": "3a2a03ea413f8be244ba01daf0e257f98f0dabeb03c7836e7000a0f3738aa8c9"
   }
  }
 },
 "nbformat": 4,
 "nbformat_minor": 2
}
