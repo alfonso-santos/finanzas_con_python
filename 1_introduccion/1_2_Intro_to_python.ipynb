{
 "cells": [
  {
   "cell_type": "markdown",
   "metadata": {},
   "source": [
    "# Estructura de Python\n",
    "<center>\n",
    "<img src=\"./imgs/scipy_ecosystem.png\"  alt=\"drawing\" width=\"75%\"/>\n",
    "</center>"
   ]
  },
  {
   "cell_type": "markdown",
   "metadata": {},
   "source": [
    "# IDE"
   ]
  },
  {
   "cell_type": "markdown",
   "metadata": {},
   "source": [
    "¿Cómo es trabajar con Python?. El interfaz del terminal de python es:\n",
    "\n",
    "<center>\n",
    "<img src=\"./imgs/python terminal.png\"  alt=\"drawing\" width=\"50%\"/>\n",
    "</center>\n"
   ]
  },
  {
   "cell_type": "markdown",
   "metadata": {},
   "source": [
    "## ¿Qué es un ide?\n",
    "- IDE son las siglas de Integrated Development Enviroment, es decir, donde vamos a programar. Por lo general tienen ayudar visuales para identificar las funciones, variables .....etc\n",
    "- En general se usan para programar de forma más sencilla\n",
    "- En este curso el IDE que usaremos será  Colab de google, pero existen muchos más.\n",
    "<center>\n",
    "<img src=\"./imgs/jupyter_lab_1.png\"  alt=\"drawing\" width=\"90%\"/>\n",
    "</center>"
   ]
  }
 ],
 "metadata": {
  "kernelspec": {
   "display_name": "Python 3.8.8 ('base')",
   "language": "python",
   "name": "python3"
  },
  "language_info": {
   "name": "python",
   "version": "3.11.5"
  },
  "orig_nbformat": 4,
  "vscode": {
   "interpreter": {
    "hash": "3a2a03ea413f8be244ba01daf0e257f98f0dabeb03c7836e7000a0f3738aa8c9"
   }
  }
 },
 "nbformat": 4,
 "nbformat_minor": 2
}
