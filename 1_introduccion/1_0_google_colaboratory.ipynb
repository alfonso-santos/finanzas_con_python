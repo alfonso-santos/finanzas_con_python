{
 "cells": [
  {
   "cell_type": "markdown",
   "metadata": {},
   "source": [
    "# Google Colab"
   ]
  },
  {
   "cell_type": "markdown",
   "metadata": {},
   "source": [
    "Google Colaboratory o Google Colab es la forma más rápida y sencilla de empezar a trabajar con Python. Solamente necesitas una cuenta de Google.\n",
    "\n",
    "<a href=\"https://colab.research.google.com/\"> Acceso a Google Colab </a>"
   ]
  },
  {
   "cell_type": "markdown",
   "metadata": {},
   "source": [
    "<img src=\"./imgs/colab_1.png\">"
   ]
  },
  {
   "cell_type": "markdown",
   "metadata": {},
   "source": [
    "<img src=\"./imgs/colab_2.png\">"
   ]
  },
  {
   "cell_type": "markdown",
   "metadata": {},
   "source": [
    "Una vez creado el cuaderno, solamente tenemos que conectar con nuestro entorno de ejecución (1), programar y ejecutar (2).\n",
    "\n",
    "<img src=\"./imgs/colab_3.png\">"
   ]
  },
  {
   "cell_type": "markdown",
   "metadata": {},
   "source": [
    "- Están formados por celdas\n",
    "\n",
    "- Las celdas pueden ser de 3 tipos:\n",
    "    - Código python (code)\n",
    "    - Texto (markdown)\n",
    "    - Código no ejecutable (Raw NBConvert)"
   ]
  },
  {
   "cell_type": "code",
   "execution_count": null,
   "metadata": {
    "vscode": {
     "languageId": "plaintext"
    }
   },
   "outputs": [],
   "source": [
    "# Esto es una celda de codigo de python"
   ]
  },
  {
   "cell_type": "markdown",
   "metadata": {},
   "source": [
    "Esto es una celda de texto (markdown)"
   ]
  },
  {
   "cell_type": "markdown",
   "metadata": {},
   "source": [
    "Los comandos más relevantes en los notebooks son los siguientes:"
   ]
  },
  {
   "cell_type": "markdown",
   "metadata": {},
   "source": [
    "|Shortcut| Description|\n",
    "|-|-|\n",
    "|shift + enter| ejecuta la celda, selecciona la siguiente|\n",
    "|ctrl + enter| ejecuta la celda|\n",
    "|alt + enter| ejecuta la celda, inserta una debajo|\n",
    "|A |inserta una celda encima de la actual|\n",
    "|B |inserta una celda abajo de la actual|\n",
    "|C |copia la celda |\n",
    "|V |pega la celda|\n",
    "|D , D |borra la celda seleccionada|\n",
    "|shift + M | Junta las celdas seleccionadas, si son consecutivas|\n",
    "|I , I |interrumpe el kernel|\n",
    "|0 , 0 |reinicia el kernel|\n",
    "|Y |cambia la celda a modo código|\n",
    "|M |cambia la celda a modo markdown|\n",
    "|Alt Gr + click |multi-cursor editing|\n",
    "|tab| code completion o indent|\n",
    "|shift + tab| muestra ayuda sobre cualquier función|\n",
    "|ctrl + shift + - | split cell|"
   ]
  },
  {
   "cell_type": "markdown",
   "metadata": {},
   "source": [
    "## Código"
   ]
  },
  {
   "cell_type": "markdown",
   "metadata": {},
   "source": [
    "Para ejecutar las celdas hay diferentes opciones:\n",
    "- Pulsar el botón \"Run\" en la parte superior de la celda\n",
    "- Pulsar Ctrl + enter (se ejecuta la celda en al que te encuentras)\n",
    "- Pulsar Shift + enter (se ejecuta la celda en al que te encuentras y pasas a la siguiente)\n",
    "- Pulsar el boton ejecutar todo (ejecuta todas las celdas, se para si alguna causa un error)"
   ]
  },
  {
   "cell_type": "code",
   "execution_count": null,
   "metadata": {
    "vscode": {
     "languageId": "plaintext"
    }
   },
   "outputs": [],
   "source": [
    "1 +8"
   ]
  },
  {
   "cell_type": "markdown",
   "metadata": {},
   "source": [
    "# Markdown"
   ]
  },
  {
   "cell_type": "markdown",
   "metadata": {},
   "source": [
    "Se pueden poner títulos:\n",
    "#### Esto es un título insertado en el notebook con markdown"
   ]
  },
  {
   "cell_type": "markdown",
   "metadata": {},
   "source": [
    "Esto es texto insertado en el notebook con markdown. Para editarlo, haz doble click sobre este párrafo.\n",
    "Puedes introducir texto de muchas maneras:\n",
    "Como *cursiva*, **negrita**\n",
    "- Listas.\n",
    "\n",
    "Si haces click [aquí](https://github.com/adam-p/markdown-here/wiki/Markdown-Cheatsheet) puedes ver una cheatsheet con formatos de markdown."
   ]
  },
  {
   "cell_type": "markdown",
   "metadata": {},
   "source": [
    "# Ejercicio"
   ]
  },
  {
   "cell_type": "markdown",
   "metadata": {},
   "source": [
    "#### 1 Este es el primer ejercicio que vais a realizar.\n",
    "Crea un notebook con el icono +, cámbiale el nombre, añade 3 títulos diferentes, un texto y varias celdas de código "
   ]
  },
  {
   "cell_type": "markdown",
   "metadata": {},
   "source": []
  }
 ],
 "metadata": {
  "language_info": {
   "name": "python"
  },
  "orig_nbformat": 4
 },
 "nbformat": 4,
 "nbformat_minor": 2
}
