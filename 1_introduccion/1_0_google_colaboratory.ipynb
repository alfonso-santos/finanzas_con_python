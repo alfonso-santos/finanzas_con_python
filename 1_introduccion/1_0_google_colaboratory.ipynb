{
 "cells": [
  {
   "cell_type": "markdown",
   "metadata": {},
   "source": [
    "# Google Colab"
   ]
  },
  {
   "cell_type": "markdown",
   "metadata": {},
   "source": [
    "Google Colaboratory o Google Colab es la forma más rápida y sencilla de empezar a trabajar con Python. Solamente necesitas una cuenta de Google.\n",
    "\n",
    "<a href=\"https://colab.research.google.com/\"> Acceso a Google Colab </a>"
   ]
  },
  {
   "cell_type": "markdown",
   "metadata": {},
   "source": [
    "<img src=\"./imgs/colab_1.png\">"
   ]
  },
  {
   "cell_type": "markdown",
   "metadata": {},
   "source": [
    "<img src=\"./imgs/colab_2.png\">"
   ]
  },
  {
   "cell_type": "markdown",
   "metadata": {},
   "source": [
    "Una vez creado el cuaderno, solamente tenemos que conectar con nuestro entorno de ejecución (1), programar y ejecutar (2).\n",
    "\n",
    "<img src=\"./imgs/colab_3.png\">"
   ]
  }
 ],
 "metadata": {
  "language_info": {
   "name": "python"
  },
  "orig_nbformat": 4
 },
 "nbformat": 4,
 "nbformat_minor": 2
}
