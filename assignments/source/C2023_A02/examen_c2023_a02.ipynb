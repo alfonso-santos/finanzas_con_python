{
 "cells": [
  {
   "cell_type": "markdown",
   "id": "9d34527e",
   "metadata": {},
   "source": [
    "# Examen <span style=\"color: #FFA500\">Listas, range y tuplas; Diccionarios; Condicionales y bucles; Funciones</span>"
   ]
  },
  {
   "cell_type": "markdown",
   "id": "97392078",
   "metadata": {},
   "source": [
    "## Ejercicio 1 (1 punto)\n",
    "\n",
    "Crea una lista de precios de acciones con los valores ```100, 110, 105, 120 y 115```, almacena la lista en una variable llamada ```px_close``` y calcula el promedio de esos precios y almacénalo en una variable que se llame ```px_promedio```."
   ]
  },
  {
   "cell_type": "code",
   "execution_count": 1,
   "id": "d3013dcf-5278-44e6-9145-4f95772fb31f",
   "metadata": {},
   "outputs": [
    {
     "name": "stdout",
     "output_type": "stream",
     "text": [
      "110.0\n"
     ]
    }
   ],
   "source": [
    "### BEGIN SOLUTION\n",
    "\n",
    "px_close = [100, 110, 105, 120, 115]\n",
    "\n",
    "px_promedio = sum(px_close)/len(px_close)\n",
    "\n",
    "### END SOLUTION\n",
    "\n",
    "print(px_promedio)"
   ]
  },
  {
   "cell_type": "code",
   "execution_count": null,
   "id": "ebae3037",
   "metadata": {},
   "outputs": [],
   "source": [
    "### BEGIN HIDDEN TESTS\n",
    "\n",
    "assert px_close == [100, 110, 105, 120, 115]\n",
    "assert px_promedio == 110.0\n",
    "\n",
    "### END HIDDEN TESTS"
   ]
  },
  {
   "cell_type": "markdown",
   "id": "124c24f3",
   "metadata": {},
   "source": [
    "## Ejercicio 2 (1 punto)\n",
    "\n",
    "Diccionarios, listas y tuplas"
   ]
  },
  {
   "cell_type": "markdown",
   "id": "93c9f996",
   "metadata": {},
   "source": [
    "* Crea un diccionario llamado `inversiones` con las siguientes claves y valores: `\"acciones\" : 5000, \"bonos\" : 3000, \"fondos\" : 2000`.\n"
   ]
  },
  {
   "cell_type": "code",
   "execution_count": 18,
   "id": "9336a9e9",
   "metadata": {},
   "outputs": [
    {
     "name": "stdout",
     "output_type": "stream",
     "text": [
      "{'acciones': 5000, 'bonos': 3000, 'fondos': 2000}\n"
     ]
    }
   ],
   "source": [
    "### BEGIN SOLUTION\n",
    "\n",
    "inversiones = {\n",
    "    \"acciones\" : 5000,\n",
    "    \"bonos\" : 3000,\n",
    "    \"fondos\" : 2000\n",
    "}\n",
    "\n",
    "### END SOLUTION\n",
    "\n",
    "print(inversiones)"
   ]
  },
  {
   "cell_type": "code",
   "execution_count": 23,
   "id": "5ce7741a",
   "metadata": {},
   "outputs": [],
   "source": [
    "### BEGIN HIDDEN TESTS\n",
    "\n",
    "assert type(inversiones) == dict\n",
    "assert list(inversiones.keys()) == ['acciones', 'bonos', 'fondos']\n",
    "assert list(inversiones.values()) == [5000, 3000, 2000]\n",
    "\n",
    "### END HIDDEN TESTS"
   ]
  },
  {
   "cell_type": "markdown",
   "id": "3f033199",
   "metadata": {},
   "source": [
    "* Obtén las categorías de inversión disponibles y asígnalas a la variable `categorias_inversion` de tipo lista.\n"
   ]
  },
  {
   "cell_type": "code",
   "execution_count": 24,
   "id": "04dbf844",
   "metadata": {},
   "outputs": [],
   "source": [
    "### BEGIN SOLUTION\n",
    "\n",
    "categorias_inversion = list(inversiones.keys())\n",
    "\n",
    "### END SOLUTION\n",
    "\n",
    "print(categorias_inversion)"
   ]
  },
  {
   "cell_type": "code",
   "execution_count": 25,
   "id": "710a782e",
   "metadata": {},
   "outputs": [],
   "source": [
    "### BEGIN HIDDEN TESTS\n",
    "\n",
    "assert type(categorias_inversion) == list\n",
    "assert categorias_inversion == ['acciones', 'bonos', 'fondos']\n",
    "\n",
    "### END HIDDEN TESTS"
   ]
  },
  {
   "cell_type": "markdown",
   "id": "acd49336",
   "metadata": {},
   "source": [
    "* Obtén los montos invertidos en cada categoría y asígnala a la variable `montos_invertidos` de tipo lista.\n"
   ]
  },
  {
   "cell_type": "code",
   "execution_count": 29,
   "id": "464052e2",
   "metadata": {},
   "outputs": [],
   "source": [
    "### BEGIN SOLUTION\n",
    "\n",
    "montos_invertidos = list(inversiones.values())\n",
    "\n",
    "### END SOLUTION\n",
    "\n",
    "print(montos_invertidos)"
   ]
  },
  {
   "cell_type": "code",
   "execution_count": 30,
   "id": "b0d32126",
   "metadata": {},
   "outputs": [],
   "source": [
    "### BEGIN HIDDEN TESTS\n",
    "\n",
    "assert type(montos_invertidos) == list\n",
    "assert montos_invertidos == [5000, 3000, 2000]\n",
    "\n",
    "### END HIDDEN TESTS"
   ]
  },
  {
   "cell_type": "markdown",
   "id": "edff7897",
   "metadata": {},
   "source": [
    "* Obtén las parejas clave-valor (tuplas) y asígnala a la variable `tuplas_categoria_monto` de tipo lista."
   ]
  },
  {
   "cell_type": "code",
   "execution_count": 45,
   "id": "9934d7cb",
   "metadata": {},
   "outputs": [],
   "source": [
    "### BEGIN SOLUTION\n",
    "\n",
    "tuplas_categoria_monto = list(inversiones.items())\n",
    "\n",
    "### END SOLUTION"
   ]
  },
  {
   "cell_type": "code",
   "execution_count": 47,
   "id": "e7feb01b",
   "metadata": {},
   "outputs": [],
   "source": [
    "### BEGIN HIDDEN TESTS\n",
    "\n",
    "assert type(tuplas_categoria_monto) == list\n",
    "assert tuplas_categoria_monto == [('acciones', 5000), ('bonos', 3000), ('fondos', 2000)]\n",
    "\n",
    "### END HIDDEN TESTS"
   ]
  },
  {
   "cell_type": "markdown",
   "id": "ce283338",
   "metadata": {},
   "source": [
    "## Ejercicio 3 (1 punto)\n",
    "\n",
    "Escribe una función llamada ```calcular_interes``` que reciba dos parámetros:\n",
    "\n",
    "* capital: capital inicial\n",
    "* tasa: tasa de interés anual\n",
    "\n",
    "La función debe devolver el capital final después de un año, aplicando la fórmula $capital \\times (1 + tasa)$.\n",
    "\n",
    "Asegúrate de especificar los tipos de los parámetros, el valor de retorno, y documenta la función con un comentario breve."
   ]
  },
  {
   "cell_type": "code",
   "execution_count": 2,
   "id": "55701472",
   "metadata": {},
   "outputs": [
    {
     "name": "stdout",
     "output_type": "stream",
     "text": [
      "110.00000000000001\n"
     ]
    }
   ],
   "source": [
    "### BEGIN SOLUTION\n",
    "\n",
    "def calcular_interes(capital: float, tasa: float) -> float:\n",
    "    \"\"\"Calcula el interes de un capital\n",
    "\n",
    "    Args:\n",
    "        capital (float): Capital inicial\n",
    "        tasa (float): Tasa de interes anual\n",
    "\n",
    "    Returns:\n",
    "        float: Capital inicial mas intereses\n",
    "    \"\"\"\n",
    "    capital_final = capital * (1+ tasa)\n",
    "    return capital_final\n",
    "\n",
    "### END SOLUTION\n",
    "\n",
    "capital_final = calcular_interes(capital=100, tasa=0.1)\n",
    "\n",
    "print(capital_final)"
   ]
  },
  {
   "cell_type": "code",
   "execution_count": 5,
   "id": "dc294d81",
   "metadata": {},
   "outputs": [],
   "source": [
    "### BEGIN HIDDEN TESTS\n",
    "\n",
    "assert round(calcular_interes(100, 0.1), 2) == 110.0\n",
    "assert round(calcular_interes(500, 0.05), 2) == 525.0\n",
    "assert round(calcular_interes(750, 0.2), 2) == 900.0\n",
    "\n",
    "### END HIDDEN TESTS\n"
   ]
  },
  {
   "cell_type": "markdown",
   "id": "5282b695",
   "metadata": {},
   "source": [
    "## Ejercicio 4 (1 punto)\n",
    "\n",
    "Crea una función llamada `positivo_negativo` que recibe un número entero como parámetro y devuelve una cadena como resultado.\n",
    "\n",
    "Esta función debe evaluar si el número recibido como parámetro es positivo, en cuyo caso devolverá como resultado \"positivo\". En caso de ser negativo, devolverá \"negativo\". En caso de ser cero, devolverá \"¯\\\\\\_(ツ)\\_/¯\"\n",
    "\n",
    "Recuerda especificar el tipo del parámetro y el tipo devuelto, así como comentar lo que hace la función."
   ]
  },
  {
   "cell_type": "code",
   "execution_count": 51,
   "id": "e9d84e07",
   "metadata": {},
   "outputs": [],
   "source": [
    "### BEGIN SOLUTION\n",
    "\n",
    "def positivo_negativo(numero:int)->str:\n",
    "    \"\"\"Indica si un numero es positivo o negativo\n",
    "\n",
    "    Args:\n",
    "        numero (int): Numero a evaluar\n",
    "\n",
    "    Returns:\n",
    "        str: 'positivo' si el numero es positivo, 'negativo' si el numero es negativo\n",
    "    \"\"\"\n",
    "    if numero > 0:\n",
    "        return \"positivo\"\n",
    "    elif numero < 0:\n",
    "        return \"negativo\"\n",
    "    else:\n",
    "        return \"¯\\\\_(ツ)_/¯\"\n",
    "\n",
    "### END SOLUTION\n"
   ]
  },
  {
   "cell_type": "code",
   "execution_count": 52,
   "id": "7c58c543",
   "metadata": {},
   "outputs": [
    {
     "name": "stdout",
     "output_type": "stream",
     "text": [
      "positivo\n",
      "negativo\n",
      "¯\\_(ツ)_/¯\n"
     ]
    }
   ],
   "source": [
    "### BEGIN HIDDEN TESTS\n",
    "\n",
    "assert positivo_negativo(10) == \"positivo\"\n",
    "assert positivo_negativo(-10) == \"negativo\"\n",
    "assert positivo_negativo(0) == \"¯\\\\_(ツ)_/¯\"\n",
    "\n",
    "### END HIDDEN TESTS"
   ]
  },
  {
   "cell_type": "markdown",
   "id": "d3614a77",
   "metadata": {},
   "source": [
    "## Ejercicio 5 (2 puntos)\n",
    "\n",
    "* Crea una variable de tipo `range` llamada `rango_precios` con los siguientes valores: `100, 150, 200, 250, 300`. \n",
    "* Crea una variable de tipo `list` llamada `precios` a partir de `rango_precios`.\n",
    "* Luego, usa un bucle `for` para recorrer la lista y aplicar un descuento del 10% a cada elemento que sea mayor que 200, guardando el resultado en una nueva lista llamada `descuentos`.\n",
    "* La lista `descuentos` debe contener tanto los precios a los que se les ha aplicado un descuento como los que no."
   ]
  },
  {
   "cell_type": "code",
   "execution_count": 7,
   "id": "bd316867",
   "metadata": {},
   "outputs": [
    {
     "name": "stdout",
     "output_type": "stream",
     "text": [
      "[100, 150, 200, 250, 300]\n",
      "[100, 150, 200, 225.0, 270.0]\n"
     ]
    }
   ],
   "source": [
    "### BEGIN SOLUTION\n",
    "\n",
    "rango_precios = range(100, 350, 50)\n",
    "precios = list(rango_precios)\n",
    "descuentos = []\n",
    "\n",
    "for precio in precios:\n",
    "    if precio > 200:\n",
    "        descuentos.append(precio - precio * 0.1)\n",
    "    else:\n",
    "        descuentos.append(precio)\n",
    "\n",
    "### END SOLUTION\n",
    "\n",
    "print(precios)\n",
    "print(descuentos)"
   ]
  },
  {
   "cell_type": "code",
   "execution_count": null,
   "id": "8b6f8696",
   "metadata": {},
   "outputs": [],
   "source": [
    "### BEGIN HIDDEN TESTS\n",
    "\n",
    "assert type(rango_precios) == range\n",
    "assert precios == [100, 150, 200, 250, 300]\n",
    "assert descuentos == [100, 150, 200, 225.0, 270.0]\n",
    "\n",
    "### END HIDDEN TESTS"
   ]
  },
  {
   "cell_type": "markdown",
   "id": "3b0f57f3",
   "metadata": {},
   "source": [
    "Modifica el algoritmo anterior para que los descuentos se apliquen de la siguiente manera:\n",
    "* Un 10% para los precios entre 150 y 250 ambos incluidos\n",
    "* un 20% para los precios estrictamente mayores de 250"
   ]
  },
  {
   "cell_type": "code",
   "execution_count": 8,
   "id": "7fa4d072",
   "metadata": {},
   "outputs": [
    {
     "name": "stdout",
     "output_type": "stream",
     "text": [
      "[100, 150, 200, 250, 300]\n",
      "[100, 135.0, 180.0, 225.0, 240.0]\n"
     ]
    }
   ],
   "source": [
    "### BEGIN SOLUTION\n",
    "\n",
    "rango_precios = range(100, 350, 50)\n",
    "precios = list(rango_precios)\n",
    "descuentos = []\n",
    "\n",
    "for precio in precios:\n",
    "    if precio >= 150 and precio <= 250:\n",
    "        descuentos.append(precio - precio * 0.1)\n",
    "    elif precio > 250:\n",
    "        descuentos.append(precio - precio * 0.2)\n",
    "    else:\n",
    "        descuentos.append(precio)\n",
    "\n",
    "### END SOLUTION\n",
    "\n",
    "print(precios)\n",
    "print(descuentos)"
   ]
  },
  {
   "cell_type": "code",
   "execution_count": null,
   "id": "4525b3f1",
   "metadata": {},
   "outputs": [],
   "source": [
    "### BEGIN HIDDEN TESTS\n",
    "\n",
    "assert descuentos == [100, 135.0, 180.0, 225.0, 240.0]\n",
    "\n",
    "### END HIDDEN TESTS"
   ]
  },
  {
   "cell_type": "markdown",
   "id": "ff61d3c2",
   "metadata": {},
   "source": [
    "## Ejercicio 4 (3 puntos)\n",
    "\n",
    "Crea un diccionario llamado `divisas` con las siguientes claves y valores: `\"USD\": 1.18, \"GBP\": 0.86, \"JPY\": 130.15, \"CHF\": 1.09`, que representan las tasas de cambio del euro con el dólar estadounidense, la libra esterlina, el yen japonés y el franco suizo, respectivamente.\n",
    "\n",
    "A continuación, crea una función llamada `equivalente_en_divisa` que recibe los siguientes parámetros:\n",
    "* El diccionario de conversión de divisas (`dict`)\n",
    "* La divisa destino (`str`)\n",
    "* La cantidad de euros (`float`)\n",
    "\n",
    "Y devuelve la cantidad en divisa equivalente a los euros que se pasan por parámetro redondeando a dos decimales.\n",
    "\n",
    "Luego, pide al usuario que introduzca una cantidad en euros y una divisa de destino (por ejemplo, \"USD\" o \"JPY\").\n",
    "\n",
    "Comprueba que la cantidad en euros sea un número válido. Si es un número válido, entonces podrás pedir la divisa de destino. Comprueba que la divisa de destino es una divisa que esté contenida en el diccionario de divisas. Si es una divisa válida, entonces calcula la conversión de euros a la divisa destino.\n",
    "\n",
    "Tanto si no es un número válido, como si no es una divisa válida, deberás mostrar un mensaje de error.\n",
    "\n",
    "Por último imprime la cantidad en euros y su equivalente en la divisa destino en una cadena de texto como la siguiente: `100.0 euros son 118.0 USD`"
   ]
  },
  {
   "cell_type": "code",
   "execution_count": 13,
   "id": "5e60f23e",
   "metadata": {},
   "outputs": [
    {
     "name": "stdout",
     "output_type": "stream",
     "text": [
      "100.0 euros son 13015.0 JPY\n"
     ]
    }
   ],
   "source": [
    "def comprobar_si_es_numero(numero:str)->bool:\n",
    "    \"\"\"Comprueba si una cadena es un número válido.\n",
    "\n",
    "    Args:\n",
    "        numero (str): cadena con el número a comprobar\n",
    "\n",
    "    Returns:\n",
    "        bool: True si la cadena es un número válido, False en caso contrario\n",
    "    \"\"\"\n",
    "    # Comprobar si el usuario ha introducido solo números\n",
    "    # Para ello, se puede usar la función str.split para separar la parte entera y la decimal por el punto\n",
    "    # y luego usar la función str.isnumeric para ver si ambas partes son numéricas\n",
    "    # Una cadena es numérica si todos los caracteres son numéricos y hay al menos un caracter.\n",
    "    partes = numero.split(\".\")\n",
    "    if len(partes) == 1 and partes[0].isnumeric():\n",
    "        # El usuario ha introducido un número entero\n",
    "        valido = True\n",
    "    elif len(partes) == 2 and partes[0].isnumeric() and partes[1].isnumeric():\n",
    "        # El usuario ha introducido un número decimal\n",
    "        valido = True\n",
    "    else:\n",
    "        # El usuario ha introducido algo que no es un número\n",
    "        valido = False\n",
    "    \n",
    "    return valido\n",
    "\n",
    "### BEGIN SOLUTION\n",
    "\n",
    "def comprobar_si_es_divisa_valida(divisa:str, divisas:dict)->bool:\n",
    "    \"\"\"Comprueba si una divisa es válida.\n",
    "\n",
    "    Args:\n",
    "        divisa (str): Código de la divisa a comprobar\n",
    "        divisas (dict): Diccionario con las divisas válidas\n",
    "\n",
    "    Returns:\n",
    "        bool: True si la divisa es válida, False en caso contrario\n",
    "    \"\"\"\n",
    "    divisas_keys = divisas.keys()\n",
    "\n",
    "    if (divisa in divisas_keys):\n",
    "        return True\n",
    "    else:\n",
    "        return False\n",
    "\n",
    "def equivalente_en_divisa(divisas:dict, divisa_destino:str, euros:float)->float:\n",
    "    \"\"\"Convierte una cantidad de euros a otra divisa.\n",
    "\n",
    "    Args:\n",
    "        divisas (dict): Diccionario de conversiones de divisas\n",
    "        divisa_destino (str): Divisa destino\n",
    "        euros (float): Cantida de euros a convertir\n",
    "\n",
    "    Returns:\n",
    "        float: Cantidad de euros convertida a la divisa destino\n",
    "    \"\"\"\n",
    "    cantidad_destino = euros * divisas[divisa_destino]\n",
    "\n",
    "    return round(cantidad_destino, 2)\n",
    "\n",
    "divisas = {\n",
    "    \"USD\": 1.18,\n",
    "    \"GBP\": 0.86,\n",
    "    \"JPY\": 130.15,\n",
    "    \"CHF\": 1.09\n",
    "}\n",
    "\n",
    "# Pedimos al usuario que introduzca una cantidad de dinero en euros\n",
    "euros = input(\"Introduzca una cantidad de dinero en euros: \")\n",
    "\n",
    "# Comprobar si el usuario ha introducido solo números\n",
    "valido = comprobar_si_es_numero(euros)\n",
    "\n",
    "# Si el usuario ha introducido un número válido, pedimos divisa destino\n",
    "if valido:\n",
    "    # Convertir el string euros a un número real\n",
    "    euros = float(euros)\n",
    "\n",
    "    # Pedimos al usuario que introduzca la divisa destino\n",
    "    divisa_destino = input(\"Introduzca la divisa destino: \")\n",
    "\n",
    "    # Comprobar si la divisa destino es válida\n",
    "    valido = comprobar_si_es_divisa_valida(divisa_destino, divisas)\n",
    "\n",
    "    # Si la divisa destino es válida, convertimos la cantidad de euros a la divisa destino\n",
    "    if valido:\n",
    "        # Convertir la cantidad de euros a la divisa destino\n",
    "        cantidad_destino = equivalente_en_divisa(\n",
    "            divisas=divisas,\n",
    "            divisa_destino=divisa_destino,\n",
    "            euros=euros\n",
    "        )\n",
    "\n",
    "        # Mostrar la cantidad de euros convertida a la divisa destino\n",
    "        print(f\"{euros} euros son {cantidad_destino} {divisa_destino}\")\n",
    "    else:\n",
    "        # Mostrar un mensaje de error por pantalla\n",
    "        print(\"Error: la divisa destino no es válida.\")\n",
    "else:\n",
    "    # Mostrar un mensaje de error por pantalla\n",
    "    print(\"Error: por favor, introduzca solo números.\")\n",
    "\n",
    "### END SOLUTION"
   ]
  },
  {
   "cell_type": "code",
   "execution_count": null,
   "id": "1fa892ad",
   "metadata": {},
   "outputs": [],
   "source": [
    "### BEGIN HIDDEN TESTS\n",
    "\n",
    "assert type(divisas) == dict\n",
    "assert equivalente_en_divisa(divisas, \"USD\", 100) == 118.0\n",
    "assert equivalente_en_divisa(divisas, \"GBP\", 100) == 86.0\n",
    "assert equivalente_en_divisa(divisas, \"JPY\", 100) == 13015.0\n",
    "assert equivalente_en_divisa(divisas, \"CHF\", 100) == 109.0\n",
    "\n",
    "### END HIDDEN TESTS"
   ]
  },
  {
   "cell_type": "markdown",
   "id": "bb8b3520",
   "metadata": {},
   "source": [
    "## Ejercicio 5 (1 punto)\n"
   ]
  },
  {
   "cell_type": "markdown",
   "id": "9c2bc73a",
   "metadata": {},
   "source": [
    "\n",
    "* Crea una lista llamada `inversiones` con las siguientes cantidades invertidas en miles de dólares: 500, 800, 300, 1200, 700.\n"
   ]
  },
  {
   "cell_type": "code",
   "execution_count": 58,
   "id": "429cf7d3",
   "metadata": {},
   "outputs": [],
   "source": [
    "### BEGIN SOLUTION\n",
    "\n",
    "inversiones = [500, 800, 300, 1200, 700]\n",
    "\n",
    "### END SOLUTION"
   ]
  },
  {
   "cell_type": "code",
   "execution_count": 59,
   "id": "275ffd18",
   "metadata": {},
   "outputs": [],
   "source": [
    "### BEGIN HIDDEN TESTS\n",
    "\n",
    "assert type(inversiones) == list\n",
    "assert inversiones == [500, 800, 300, 1200, 700]\n",
    "\n",
    "### END HIDDEN TESTS"
   ]
  },
  {
   "cell_type": "markdown",
   "id": "56b4261c",
   "metadata": {},
   "source": [
    "* Utiliza la biblioteca NumPy (https://numpy.org) para convertir esta lista en un array NumPy llamado \"inversiones_arr\".\n"
   ]
  },
  {
   "cell_type": "code",
   "execution_count": 61,
   "id": "3e5f4b98",
   "metadata": {},
   "outputs": [],
   "source": [
    "import numpy as np\n",
    "\n",
    "### BEGIN SOLUTION\n",
    "\n",
    "inversiones_arr = np.array(inversiones)\n",
    "\n",
    "### END SOLUTION"
   ]
  },
  {
   "cell_type": "code",
   "execution_count": 62,
   "id": "4ba81a1b",
   "metadata": {},
   "outputs": [],
   "source": [
    "### BEGIN HIDDEN TESTS\n",
    "\n",
    "assert type(inversiones_arr) == np.ndarray\n",
    "assert inversiones_arr.tolist() == [500, 800, 300, 1200, 700]\n",
    "\n",
    "### END HIDDEN TESTS"
   ]
  },
  {
   "cell_type": "markdown",
   "id": "cfd929fe",
   "metadata": {},
   "source": [
    "* Calcula la media (promedio) de los montos invertidos utilizando NumPy y guárdala en una variable llamada `media_inversiones`.\n"
   ]
  },
  {
   "cell_type": "code",
   "execution_count": 64,
   "id": "e4e191f3",
   "metadata": {},
   "outputs": [
    {
     "name": "stdout",
     "output_type": "stream",
     "text": [
      "700.0\n"
     ]
    }
   ],
   "source": [
    "### BEGIN SOLUTION\n",
    "\n",
    "media_inversiones = np.mean(inversiones_arr)\n",
    "\n",
    "### END SOLUTION\n",
    "\n",
    "print(media_inversiones)"
   ]
  },
  {
   "cell_type": "code",
   "execution_count": 71,
   "id": "d7fd54dd",
   "metadata": {},
   "outputs": [],
   "source": [
    "### BEGIN HIDDEN TESTS\n",
    "\n",
    "assert type(media_inversiones) == np.float64\n",
    "assert media_inversiones == 700.0\n",
    "\n",
    "### END HIDDEN TESTS"
   ]
  },
  {
   "cell_type": "markdown",
   "id": "ce6487fd",
   "metadata": {},
   "source": [
    "* Crea una tupla llamada `categorías` con las siguientes categorías de inversión: \"acciones\", \"bonos\", \"fondos\", \"propiedades\", \"efectivo\".\n"
   ]
  },
  {
   "cell_type": "code",
   "execution_count": 72,
   "id": "23664989",
   "metadata": {},
   "outputs": [
    {
     "name": "stdout",
     "output_type": "stream",
     "text": [
      "('acciones', 'bonos', 'fondos', 'propiedades', 'efectivo')\n"
     ]
    }
   ],
   "source": [
    "### BEGIN SOLUTION\n",
    "\n",
    "categorias = (\"acciones\", \"bonos\", \"fondos\", \"propiedades\", \"efectivo\")\n",
    "\n",
    "### END SOLUTION\n",
    "\n",
    "print(categorias)"
   ]
  },
  {
   "cell_type": "code",
   "execution_count": 73,
   "id": "6c7865c4",
   "metadata": {},
   "outputs": [],
   "source": [
    "### BEGIN HIDDEN TESTS\n",
    "\n",
    "assert type(categorias) == tuple\n",
    "assert categorias == ('acciones', 'bonos', 'fondos', 'propiedades', 'efectivo')\n",
    "\n",
    "### END HIDDEN TESTS"
   ]
  },
  {
   "cell_type": "markdown",
   "id": "bff8e2ac",
   "metadata": {},
   "source": [
    "* Utiliza la función `zip()` (https://www.w3schools.com/python/ref_func_zip.asp) para crear un diccionario que se llame `categorias_inversiones` que mapee cada categoría a su respectiva cantidad invertida en miles de dólares.\n"
   ]
  },
  {
   "cell_type": "code",
   "execution_count": 80,
   "id": "8220d868",
   "metadata": {},
   "outputs": [],
   "source": [
    "### BEGIN SOLUTION\n",
    "\n",
    "categorias_inversiones = dict()\n",
    "\n",
    "for categoria, inversion in zip(categorias, inversiones):\n",
    "    categorias_inversiones[categoria] = inversion\n",
    "\n",
    "### END SOLUTION"
   ]
  },
  {
   "cell_type": "code",
   "execution_count": 81,
   "id": "55a7bdb3",
   "metadata": {},
   "outputs": [],
   "source": [
    "### BEGIN HIDDEN TESTS\n",
    "\n",
    "assert type(categorias_inversiones) == dict\n",
    "assert categorias_inversiones == {\n",
    "    'acciones': 500,\n",
    "    'bonos': 800,\n",
    "    'fondos': 300,\n",
    "    'propiedades': 1200,\n",
    "    'efectivo': 700\n",
    "    }\n",
    "\n",
    "### END HIDDEN TESTS"
   ]
  },
  {
   "cell_type": "markdown",
   "id": "e15ee142",
   "metadata": {},
   "source": [
    "* Finalmente, utiliza NumPy para calcular la desviación estándar de los montos invertidos y guárdala en una variable llamada `desviacion_estandar`."
   ]
  },
  {
   "cell_type": "code",
   "execution_count": 82,
   "id": "a1ed1e25",
   "metadata": {},
   "outputs": [
    {
     "name": "stdout",
     "output_type": "stream",
     "text": [
      "303.31501776206204\n"
     ]
    }
   ],
   "source": [
    "### BEGIN SOLUTION\n",
    "\n",
    "desviacion_estandar = np.std(inversiones_arr)\n",
    "\n",
    "### END SOLUTION\n",
    "\n",
    "print(desviacion_estandar)"
   ]
  },
  {
   "cell_type": "code",
   "execution_count": 83,
   "id": "127c11ac",
   "metadata": {},
   "outputs": [],
   "source": [
    "### BEGIN HIDDEN TESTS\n",
    "\n",
    "assert type(desviacion_estandar) == np.float64\n",
    "assert desviacion_estandar == 303.31501776206204\n",
    "\n",
    "### END HIDDEN TESTS"
   ]
  }
 ],
 "metadata": {
  "kernelspec": {
   "display_name": "Python 3 (ipykernel)",
   "language": "python",
   "name": "python3"
  },
  "language_info": {
   "codemirror_mode": {
    "name": "ipython",
    "version": 3
   },
   "file_extension": ".py",
   "mimetype": "text/x-python",
   "name": "python",
   "nbconvert_exporter": "python",
   "pygments_lexer": "ipython3",
   "version": "3.10.3"
  }
 },
 "nbformat": 4,
 "nbformat_minor": 5
}
