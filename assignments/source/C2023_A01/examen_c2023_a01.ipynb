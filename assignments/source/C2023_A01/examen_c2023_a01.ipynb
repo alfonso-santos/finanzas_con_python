{
 "cells": [
  {
   "cell_type": "markdown",
   "id": "bf130c28",
   "metadata": {
    "nbgrader": {
     "grade": false,
     "grade_id": "cell-b897313b47170795",
     "locked": true,
     "schema_version": 3,
     "solution": false,
     "task": false
    }
   },
   "source": [
    "# Examen <span style=\"color: #FFA500\">Core, funciones incorporadas y strings</span>"
   ]
  },
  {
   "cell_type": "markdown",
   "id": "05d9c06f",
   "metadata": {
    "nbgrader": {
     "grade": false,
     "grade_id": "cell-fd5106033502da6c",
     "locked": true,
     "schema_version": 3,
     "solution": false,
     "task": false
    }
   },
   "source": [
    "**Instrucciones**\n",
    "\n",
    "* Solamente puedes escribir código entre los comentarios ```### BEGIN SOLUTION``` y ```### END SOLUTION```"
   ]
  },
  {
   "cell_type": "markdown",
   "id": "ab9e1781",
   "metadata": {
    "nbgrader": {
     "grade": false,
     "grade_id": "cell-9b856aead4417c45",
     "locked": true,
     "schema_version": 3,
     "solution": false,
     "task": false
    }
   },
   "source": [
    "## Ejercicio 1 (1 punto)\n",
    "\n"
   ]
  },
  {
   "cell_type": "markdown",
   "id": "62c796ac",
   "metadata": {
    "nbgrader": {
     "grade": false,
     "grade_id": "cell-88c5ec235210a843",
     "locked": true,
     "schema_version": 3,
     "solution": false,
     "task": false
    }
   },
   "source": [
    "Crea, inicializa y opera con tres variables ```x, y, z``` de manera que ```z``` valga 30 al terminar la ejecución de la celda."
   ]
  },
  {
   "cell_type": "code",
   "execution_count": 1,
   "id": "5ab83455-b9fe-4a9d-91b8-0a85f04ea637",
   "metadata": {
    "nbgrader": {
     "grade": false,
     "grade_id": "cell-a54400a1ecd4cad6",
     "locked": false,
     "schema_version": 3,
     "solution": true,
     "task": false
    }
   },
   "outputs": [
    {
     "name": "stdout",
     "output_type": "stream",
     "text": [
      "30\n"
     ]
    }
   ],
   "source": [
    "### BEGIN SOLUTION\n",
    "x = 10\n",
    "y = 20\n",
    "z = x + y\n",
    "### END SOLUTION\n",
    "\n",
    "print(z)"
   ]
  },
  {
   "cell_type": "code",
   "execution_count": 4,
   "id": "2c29adde",
   "metadata": {
    "nbgrader": {
     "grade": true,
     "grade_id": "cell-01b9230322b8f61f",
     "locked": true,
     "points": 1,
     "schema_version": 3,
     "solution": false,
     "task": false
    }
   },
   "outputs": [],
   "source": [
    "### BEGIN HIDDEN TESTS\n",
    "\n",
    "assert z == 30\n",
    "\n",
    "### END HIDDEN TESTS"
   ]
  },
  {
   "cell_type": "markdown",
   "id": "966eaec1",
   "metadata": {
    "nbgrader": {
     "grade": false,
     "grade_id": "cell-ec62a12471d0fa2f",
     "locked": true,
     "schema_version": 3,
     "solution": false,
     "task": false
    }
   },
   "source": [
    "## Ejercicio 2 (1 punto)\n",
    "\n"
   ]
  },
  {
   "cell_type": "markdown",
   "id": "c3aa78ff",
   "metadata": {
    "nbgrader": {
     "grade": false,
     "grade_id": "cell-d097c05966179fa3",
     "locked": true,
     "schema_version": 3,
     "solution": false,
     "task": false
    }
   },
   "source": [
    "* Crea una variable ```x``` e inicialízala con el valor ```float``` 10.5\n"
   ]
  },
  {
   "cell_type": "code",
   "execution_count": 7,
   "id": "68651516",
   "metadata": {
    "nbgrader": {
     "grade": false,
     "grade_id": "cell-8fb40d6b5125dab5",
     "locked": false,
     "schema_version": 3,
     "solution": true,
     "task": false
    }
   },
   "outputs": [
    {
     "name": "stdout",
     "output_type": "stream",
     "text": [
      "10.5\n"
     ]
    }
   ],
   "source": [
    "### BEGIN SOLUTION\n",
    "\n",
    "x = 10.5\n",
    "\n",
    "### END SOLUTION\n",
    "\n",
    "print(x)"
   ]
  },
  {
   "cell_type": "code",
   "execution_count": 8,
   "id": "a8a3b956",
   "metadata": {
    "nbgrader": {
     "grade": true,
     "grade_id": "cell-8808493c24993de7",
     "locked": true,
     "points": 0.5,
     "schema_version": 3,
     "solution": false,
     "task": false
    }
   },
   "outputs": [],
   "source": [
    "### BEGIN HIDDEN TESTS\n",
    "\n",
    "assert x == 10.5\n",
    "assert type(x) == float\n",
    "\n",
    "### END HIDDEN TESTS"
   ]
  },
  {
   "cell_type": "markdown",
   "id": "aa71e072",
   "metadata": {
    "nbgrader": {
     "grade": false,
     "grade_id": "cell-a5dbc6e015cc99f6",
     "locked": true,
     "schema_version": 3,
     "solution": false,
     "task": false
    }
   },
   "source": [
    "* Conviértela, asignándola a sí misma, a ```int``` utilizando la función al efecto de Python.\n"
   ]
  },
  {
   "cell_type": "code",
   "execution_count": 9,
   "id": "868a829d",
   "metadata": {
    "nbgrader": {
     "grade": false,
     "grade_id": "cell-5522c2752130898c",
     "locked": false,
     "schema_version": 3,
     "solution": true,
     "task": false
    }
   },
   "outputs": [
    {
     "name": "stdout",
     "output_type": "stream",
     "text": [
      "10\n"
     ]
    }
   ],
   "source": [
    "### BEGIN SOLUTION\n",
    "\n",
    "x = int(x)\n",
    "\n",
    "### END SOLUTION\n",
    "\n",
    "print(x)"
   ]
  },
  {
   "cell_type": "code",
   "execution_count": 10,
   "id": "d46777c6",
   "metadata": {
    "nbgrader": {
     "grade": true,
     "grade_id": "cell-5995b5bc9367119a",
     "locked": true,
     "points": 0.5,
     "schema_version": 3,
     "solution": false,
     "task": false
    }
   },
   "outputs": [],
   "source": [
    "### BEGIN HIDDEN TESTS\n",
    "\n",
    "assert x == 10\n",
    "assert type(x) == int\n",
    "\n",
    "### END HIDDEN TESTS"
   ]
  },
  {
   "cell_type": "markdown",
   "id": "f15d66d4",
   "metadata": {
    "nbgrader": {
     "grade": false,
     "grade_id": "cell-27086f947e43656f",
     "locked": true,
     "schema_version": 3,
     "solution": false,
     "task": false
    }
   },
   "source": [
    "## Ejercicio 3 (1 punto)\n",
    "\n"
   ]
  },
  {
   "cell_type": "markdown",
   "id": "63c2cbc5",
   "metadata": {
    "nbgrader": {
     "grade": false,
     "grade_id": "cell-d4a3515fa59aab90",
     "locked": true,
     "schema_version": 3,
     "solution": false,
     "task": false
    }
   },
   "source": [
    "* Sustitye la vocal ```a``` del texto almacenado en ```x``` por un guión bajo ( ```_``` )"
   ]
  },
  {
   "cell_type": "code",
   "execution_count": 24,
   "id": "aa7f9694",
   "metadata": {
    "nbgrader": {
     "grade": false,
     "grade_id": "cell-07c99e02b3091a49",
     "locked": false,
     "schema_version": 3,
     "solution": true,
     "task": false
    }
   },
   "outputs": [
    {
     "name": "stdout",
     "output_type": "stream",
     "text": [
      "\n",
      "L_ Guí_ del _utoestopist_ g_láctico (The Hitchhiker's Guide to the G_l_xy en inglés) es un_ novel_ de cienci_ ficción de Dougl_s Ad_ms public_d_ en octubre de 1979. Es el primer libro de seis que conform_n l_ f_mos_ serie de l_ Guí_ del _utoestopist_ g_láctico, que fue origin_lmente un_ r_diocomedi_ escrit_ por el mismo _utor en 1978.\n",
      "\n",
      "El título del libro fue inspir_do en l_ guí_ Hitch-hiker's Guide to Europe p_r_ vi_j_r en _utoestop por Europ_. L_ s_g_ de l_ Guí_ del _utoestopist_ g_láctico h_ sido difundid_ de diferentes m_ner_s, incluyendo un_ serie de televisión, un videojuego, un cómic y h_st_ un_ dr_m_tiz_ción te_tr_l, convirtiendo _ su _utor en un_ figur_ influyente en el c_mpo de l_ cienci_ ficción y l_ comedi_.\n",
      "\n",
      "El libro vendió 250 000 copi_s en los primeros tres meses tr_s ser public_do. H_st_ 2018 h_bí_ vendido 16 millones de ejempl_res.\n",
      "\n"
     ]
    }
   ],
   "source": [
    "# Ref.: https://es.wikipedia.org/wiki/Gu%C3%ADa_del_autoestopista_gal%C3%A1ctico_(novela)\n",
    "x = \"\"\"\n",
    "La Guía del autoestopista galáctico (The Hitchhiker's Guide to the Galaxy en inglés) es una novela de ciencia ficción de Douglas Adams publicada en octubre de 1979. Es el primer libro de seis que conforman la famosa serie de la Guía del autoestopista galáctico, que fue originalmente una radiocomedia escrita por el mismo autor en 1978.\n",
    "\n",
    "El título del libro fue inspirado en la guía Hitch-hiker's Guide to Europe para viajar en autoestop por Europa. La saga de la Guía del autoestopista galáctico ha sido difundida de diferentes maneras, incluyendo una serie de televisión, un videojuego, un cómic y hasta una dramatización teatral, convirtiendo a su autor en una figura influyente en el campo de la ciencia ficción y la comedia.\n",
    "\n",
    "El libro vendió 250 000 copias en los primeros tres meses tras ser publicado. Hasta 2018 había vendido 16 millones de ejemplares.\n",
    "\"\"\"\n",
    "\n",
    "### BEGIN SOLUTION\n",
    "\n",
    "x = x.replace('a', '_')\n",
    "\n",
    "### END SOLUTION\n",
    "\n",
    "print(x)"
   ]
  },
  {
   "cell_type": "code",
   "execution_count": 25,
   "id": "e88e72f7",
   "metadata": {
    "nbgrader": {
     "grade": true,
     "grade_id": "cell-67f6b0b3b0a6dd9e",
     "locked": true,
     "points": 0.5,
     "schema_version": 3,
     "solution": false,
     "task": false
    }
   },
   "outputs": [],
   "source": [
    "### BEGIN HIDDEN TESTS\n",
    "\n",
    "assert x.count('a') == 0\n",
    "\n",
    "assert x == \"\"\"\n",
    "L_ Guí_ del _utoestopist_ g_láctico (The Hitchhiker's Guide to the G_l_xy en inglés) es un_ novel_ de cienci_ ficción de Dougl_s Ad_ms public_d_ en octubre de 1979. Es el primer libro de seis que conform_n l_ f_mos_ serie de l_ Guí_ del _utoestopist_ g_láctico, que fue origin_lmente un_ r_diocomedi_ escrit_ por el mismo _utor en 1978.\n",
    "\n",
    "El título del libro fue inspir_do en l_ guí_ Hitch-hiker's Guide to Europe p_r_ vi_j_r en _utoestop por Europ_. L_ s_g_ de l_ Guí_ del _utoestopist_ g_láctico h_ sido difundid_ de diferentes m_ner_s, incluyendo un_ serie de televisión, un videojuego, un cómic y h_st_ un_ dr_m_tiz_ción te_tr_l, convirtiendo _ su _utor en un_ figur_ influyente en el c_mpo de l_ cienci_ ficción y l_ comedi_.\n",
    "\n",
    "El libro vendió 250 000 copi_s en los primeros tres meses tr_s ser public_do. H_st_ 2018 h_bí_ vendido 16 millones de ejempl_res.\n",
    "\"\"\"\n",
    "\n",
    "### END HIDDEN TESTS"
   ]
  },
  {
   "cell_type": "markdown",
   "id": "bbcb69d5",
   "metadata": {
    "nbgrader": {
     "grade": false,
     "grade_id": "cell-05619f9da7a9bc14",
     "locked": true,
     "schema_version": 3,
     "solution": false,
     "task": false
    }
   },
   "source": [
    "* Sustitye las dos primeras vocales ```e``` del texto almacenado en ```x``` resultado de la celda anterior por un guión bajo ( ```_``` )"
   ]
  },
  {
   "cell_type": "code",
   "execution_count": 26,
   "id": "ba9cc9f2",
   "metadata": {
    "nbgrader": {
     "grade": false,
     "grade_id": "cell-94b29237334b1bec",
     "locked": false,
     "schema_version": 3,
     "solution": true,
     "task": false
    }
   },
   "outputs": [
    {
     "name": "stdout",
     "output_type": "stream",
     "text": [
      "\n",
      "L_ Guí_ d_l _uto_stopist_ g_láctico (The Hitchhiker's Guide to the G_l_xy en inglés) es un_ novel_ de cienci_ ficción de Dougl_s Ad_ms public_d_ en octubre de 1979. Es el primer libro de seis que conform_n l_ f_mos_ serie de l_ Guí_ del _utoestopist_ g_láctico, que fue origin_lmente un_ r_diocomedi_ escrit_ por el mismo _utor en 1978.\n",
      "\n",
      "El título del libro fue inspir_do en l_ guí_ Hitch-hiker's Guide to Europe p_r_ vi_j_r en _utoestop por Europ_. L_ s_g_ de l_ Guí_ del _utoestopist_ g_láctico h_ sido difundid_ de diferentes m_ner_s, incluyendo un_ serie de televisión, un videojuego, un cómic y h_st_ un_ dr_m_tiz_ción te_tr_l, convirtiendo _ su _utor en un_ figur_ influyente en el c_mpo de l_ cienci_ ficción y l_ comedi_.\n",
      "\n",
      "El libro vendió 250 000 copi_s en los primeros tres meses tr_s ser public_do. H_st_ 2018 h_bí_ vendido 16 millones de ejempl_res.\n",
      "\n"
     ]
    }
   ],
   "source": [
    "### BEGIN SOLUTION\n",
    "\n",
    "x = x.replace('e', '_', 2)\n",
    "\n",
    "### END SOLUTION\n",
    "\n",
    "print(x)"
   ]
  },
  {
   "cell_type": "code",
   "execution_count": 27,
   "id": "e8d8b638",
   "metadata": {
    "nbgrader": {
     "grade": true,
     "grade_id": "cell-3eba07b18619d384",
     "locked": true,
     "points": 0.5,
     "schema_version": 3,
     "solution": false,
     "task": false
    }
   },
   "outputs": [],
   "source": [
    "### BEGIN HIDDEN TESTS\n",
    "\n",
    "assert x == \"\"\"\n",
    "L_ Guí_ d_l _uto_stopist_ g_láctico (The Hitchhiker's Guide to the G_l_xy en inglés) es un_ novel_ de cienci_ ficción de Dougl_s Ad_ms public_d_ en octubre de 1979. Es el primer libro de seis que conform_n l_ f_mos_ serie de l_ Guí_ del _utoestopist_ g_láctico, que fue origin_lmente un_ r_diocomedi_ escrit_ por el mismo _utor en 1978.\n",
    "\n",
    "El título del libro fue inspir_do en l_ guí_ Hitch-hiker's Guide to Europe p_r_ vi_j_r en _utoestop por Europ_. L_ s_g_ de l_ Guí_ del _utoestopist_ g_láctico h_ sido difundid_ de diferentes m_ner_s, incluyendo un_ serie de televisión, un videojuego, un cómic y h_st_ un_ dr_m_tiz_ción te_tr_l, convirtiendo _ su _utor en un_ figur_ influyente en el c_mpo de l_ cienci_ ficción y l_ comedi_.\n",
    "\n",
    "El libro vendió 250 000 copi_s en los primeros tres meses tr_s ser public_do. H_st_ 2018 h_bí_ vendido 16 millones de ejempl_res.\n",
    "\"\"\"\n",
    "\n",
    "### END HIDDEN TESTS"
   ]
  },
  {
   "cell_type": "markdown",
   "id": "aca0d6ca",
   "metadata": {
    "nbgrader": {
     "grade": false,
     "grade_id": "cell-b7d57db374c1f75c",
     "locked": true,
     "schema_version": 3,
     "solution": false,
     "task": false
    }
   },
   "source": [
    "## Ejercicio 4 (1 punto)\n",
    "\n"
   ]
  },
  {
   "cell_type": "markdown",
   "id": "b4834bc9",
   "metadata": {
    "nbgrader": {
     "grade": false,
     "grade_id": "cell-fe2b6f97583def4a",
     "locked": true,
     "schema_version": 3,
     "solution": false,
     "task": false
    }
   },
   "source": [
    "Calcula el área de una elipse con los siguientes valores para su radio mayor (```r_a```) y radio menor (```r_b```):\n",
    "* ```r_a``` vale 10\n",
    "* ```r_b``` vale 5\n",
    "\n",
    "$A = \\pi*r_a*r_b$"
   ]
  },
  {
   "cell_type": "code",
   "execution_count": 28,
   "id": "da8592a8",
   "metadata": {
    "nbgrader": {
     "grade": false,
     "grade_id": "cell-fe8faf9c96779430",
     "locked": false,
     "schema_version": 3,
     "solution": true,
     "task": false
    }
   },
   "outputs": [
    {
     "name": "stdout",
     "output_type": "stream",
     "text": [
      "157.07963267948966\n"
     ]
    }
   ],
   "source": [
    "import math\n",
    "\n",
    "r_a = 10 # Asigna un valor a r_a\n",
    "r_b = 5 # Asigna un valor a r_b\n",
    "\n",
    "### BEGIN SOLUTION\n",
    "\n",
    "A = math.pi * r_a * r_b\n",
    "\n",
    "### END SOLUTION\n",
    "\n",
    "print(A)"
   ]
  },
  {
   "cell_type": "code",
   "execution_count": 29,
   "id": "b405cf92",
   "metadata": {
    "nbgrader": {
     "grade": true,
     "grade_id": "cell-7d9f6782826372ca",
     "locked": true,
     "points": 1,
     "schema_version": 3,
     "solution": false,
     "task": false
    }
   },
   "outputs": [],
   "source": [
    "### BEGIN HIDDEN TESTS\n",
    "\n",
    "assert A == 157.07963267948966\n",
    "\n",
    "### END HIDDEN TESTS"
   ]
  },
  {
   "cell_type": "markdown",
   "id": "76fb207b",
   "metadata": {
    "nbgrader": {
     "grade": false,
     "grade_id": "cell-af8c658287982d78",
     "locked": true,
     "schema_version": 3,
     "solution": false,
     "task": false
    }
   },
   "source": [
    "## Ejercicio 5 (1 punto)\n",
    "\n"
   ]
  },
  {
   "cell_type": "markdown",
   "id": "1cf8134a",
   "metadata": {
    "nbgrader": {
     "grade": false,
     "grade_id": "cell-cdbc4307d06272ab",
     "locked": true,
     "schema_version": 3,
     "solution": false,
     "task": false
    }
   },
   "source": [
    "Calcula el rendimiento diario de Apple entre los días 28/09/2023 y 29/09/2023 y almacénalo en la variable ```rentab```\n",
    "* VL del 28/09/2023 es 169.34\n",
    "* VL del 29/09/2023 es 172.02\n",
    "\n",
    "$rentab = \\frac{(vl_2 - vl_1)}{vl_1}$"
   ]
  },
  {
   "cell_type": "code",
   "execution_count": 30,
   "id": "12625b3b",
   "metadata": {
    "nbgrader": {
     "grade": false,
     "grade_id": "cell-ca005f751a58e53c",
     "locked": false,
     "schema_version": 3,
     "solution": true,
     "task": false
    }
   },
   "outputs": [
    {
     "name": "stdout",
     "output_type": "stream",
     "text": [
      "0.015826148576827723\n"
     ]
    }
   ],
   "source": [
    "vl_1 = 169.34 # Asigna un valor a vl_1\n",
    "vl_2 = 172.02 # Asigna un valor a vl_2\n",
    "\n",
    "### BEGIN SOLUTION\n",
    "\n",
    "rentab = (vl_2 - vl_1) / vl_1\n",
    "\n",
    "### END SOLUTION\n",
    "\n",
    "print(rentab)"
   ]
  },
  {
   "cell_type": "code",
   "execution_count": null,
   "id": "6944de9d",
   "metadata": {
    "nbgrader": {
     "grade": true,
     "grade_id": "cell-04d3b6b8c638587e",
     "locked": true,
     "points": 0.5,
     "schema_version": 3,
     "solution": false,
     "task": false
    }
   },
   "outputs": [],
   "source": [
    "### BEGIN HIDDEN TESTS\n",
    "\n",
    "assert rentab == 0.015826148576827723\n",
    "\n",
    "### END HIDDEN TESTS"
   ]
  },
  {
   "cell_type": "markdown",
   "id": "81a47a64",
   "metadata": {
    "nbgrader": {
     "grade": false,
     "grade_id": "cell-ad4ddb739ef9ec8f",
     "locked": true,
     "schema_version": 3,
     "solution": false,
     "task": false
    }
   },
   "source": [
    "Muestra el valor de la rentabilidad calculada en una cadena de texto.\n",
    "\n",
    "La cadena de texto final tiene que ser la siguiente: ```Apple obtuvo un rendimiento diario entre los días 28/09/2023 y 29/09/2023 de un 1.58%``` y estar almacenada en la variable ```mensaje```. Debes usar las variables ```fecha_vl_1```, ```fecha_vl_2``` y ```rentab``` para construir la cadena de texto final."
   ]
  },
  {
   "cell_type": "code",
   "execution_count": 34,
   "id": "4adea4f0",
   "metadata": {
    "nbgrader": {
     "grade": false,
     "grade_id": "cell-6e5cf3170070bfd5",
     "locked": false,
     "schema_version": 3,
     "solution": true,
     "task": false
    }
   },
   "outputs": [
    {
     "name": "stdout",
     "output_type": "stream",
     "text": [
      "Apple obtuvo un rendimiento diario entre los días 28/09/2023 y 29/09/2023 de un 1.58%\n"
     ]
    }
   ],
   "source": [
    "from datetime import datetime\n",
    "\n",
    "fecha_vl_1 = datetime(2023, 9, 28) # Asigna un valor a fecha_vl_1 utilizando datetime\n",
    "fecha_vl_2 = datetime(2023, 9, 29) # Asigna un valor a fecha_vl_2 utilizando datetime\n",
    "\n",
    "### BEGIN SOLUTION\n",
    "\n",
    "mensaje = f\"Apple obtuvo un rendimiento diario entre los días {fecha_vl_1:%d/%m/%Y} y {fecha_vl_2:%d/%m/%Y} de un {rentab*100:.2f}%\"\n",
    "\n",
    "### END SOLUTION\n",
    "\n",
    "print(mensaje)\n"
   ]
  },
  {
   "cell_type": "code",
   "execution_count": 35,
   "id": "81e1f2a8",
   "metadata": {
    "nbgrader": {
     "grade": true,
     "grade_id": "cell-9834a4d32990072c",
     "locked": true,
     "points": 0.5,
     "schema_version": 3,
     "solution": false,
     "task": false
    }
   },
   "outputs": [],
   "source": [
    "### BEGIN HIDDEN TESTS\n",
    "\n",
    "assert mensaje == \"Apple obtuvo un rendimiento diario entre los días 28/09/2023 y 29/09/2023 de un 1.58%\"\n",
    "\n",
    "### END HIDDEN TESTS"
   ]
  },
  {
   "cell_type": "markdown",
   "id": "ff489915",
   "metadata": {
    "nbgrader": {
     "grade": false,
     "grade_id": "cell-1a136004c24ae7c1",
     "locked": true,
     "schema_version": 3,
     "solution": false,
     "task": false
    }
   },
   "source": [
    "## Ejercicio 6 (1 punto)\n",
    "\n"
   ]
  },
  {
   "cell_type": "markdown",
   "id": "e78bc714",
   "metadata": {
    "nbgrader": {
     "grade": false,
     "grade_id": "cell-f51dfef921f48478",
     "locked": true,
     "schema_version": 3,
     "solution": false,
     "task": false
    }
   },
   "source": [
    "Supongamos que tienes una cuenta de ahorros con un interés anual del 2% y quieres saber cuánto dinero tendrás después de un año si depositas 1000 euros.\n",
    "\n",
    "$VF = VP \\times (1+r)$\n"
   ]
  },
  {
   "cell_type": "markdown",
   "id": "d331b7f9",
   "metadata": {
    "nbgrader": {
     "grade": false,
     "grade_id": "cell-1fd198739c4db1ce",
     "locked": true,
     "schema_version": 3,
     "solution": false,
     "task": false
    }
   },
   "source": [
    "* Primero, asigna el valor 1000 a una variable llamada ```saldo_inicial```."
   ]
  },
  {
   "cell_type": "code",
   "execution_count": 41,
   "id": "c8b29447",
   "metadata": {
    "nbgrader": {
     "grade": false,
     "grade_id": "cell-79176afa6cc04914",
     "locked": false,
     "schema_version": 3,
     "solution": true,
     "task": false
    }
   },
   "outputs": [
    {
     "name": "stdout",
     "output_type": "stream",
     "text": [
      "1000\n"
     ]
    }
   ],
   "source": [
    "### BEGIN SOLUTION\n",
    "\n",
    "saldo_inicial = 1000\n",
    "\n",
    "### END SOLUTION\n",
    "\n",
    "print(saldo_inicial)"
   ]
  },
  {
   "cell_type": "code",
   "execution_count": 42,
   "id": "6a3ff0eb",
   "metadata": {
    "nbgrader": {
     "grade": true,
     "grade_id": "cell-0d1fc5c5ddde7289",
     "locked": true,
     "points": 0.25,
     "schema_version": 3,
     "solution": false,
     "task": false
    }
   },
   "outputs": [],
   "source": [
    "### BEGIN HIDDEN TESTS\n",
    "\n",
    "assert saldo_inicial == 1000\n",
    "\n",
    "### END HIDDEN TESTS"
   ]
  },
  {
   "cell_type": "markdown",
   "id": "b55b94da",
   "metadata": {
    "nbgrader": {
     "grade": false,
     "grade_id": "cell-6c13c6dc68cc670e",
     "locked": true,
     "schema_version": 3,
     "solution": false,
     "task": false
    }
   },
   "source": [
    "* Segundo, calcula el interés que se acumulará en un año multiplicando el saldo inicial por el porcentaje de interés y dividiéndolo por 100. Almacénalo en una variable llamada ```interes```."
   ]
  },
  {
   "cell_type": "code",
   "execution_count": 43,
   "id": "e754267e",
   "metadata": {
    "nbgrader": {
     "grade": false,
     "grade_id": "cell-854b9a2ef96b3712",
     "locked": false,
     "schema_version": 3,
     "solution": true,
     "task": false
    }
   },
   "outputs": [
    {
     "name": "stdout",
     "output_type": "stream",
     "text": [
      "20.0\n"
     ]
    }
   ],
   "source": [
    "# Tasa de interés anual\n",
    "r = 2\n",
    "\n",
    "### BEGIN SOLUTION\n",
    "\n",
    "interes = saldo_inicial * r / 100\n",
    "\n",
    "### END SOLUTION\n",
    "\n",
    "print(interes)"
   ]
  },
  {
   "cell_type": "code",
   "execution_count": 44,
   "id": "e15583a6",
   "metadata": {
    "nbgrader": {
     "grade": true,
     "grade_id": "cell-5c0dc054cced4713",
     "locked": true,
     "points": 0.25,
     "schema_version": 3,
     "solution": false,
     "task": false
    }
   },
   "outputs": [],
   "source": [
    "### BEGIN HIDDEN TESTS\n",
    "\n",
    "assert interes == 20\n",
    "\n",
    "### END HIDDEN TESTS"
   ]
  },
  {
   "cell_type": "markdown",
   "id": "292e56ea",
   "metadata": {
    "nbgrader": {
     "grade": false,
     "grade_id": "cell-e0805e9cbe838cc1",
     "locked": true,
     "schema_version": 3,
     "solution": false,
     "task": false
    }
   },
   "source": [
    "* Tercero, suma el saldo inicial y el interés para obtener el saldo final después de un año. Almacénalo en la variable ```saldo_final```"
   ]
  },
  {
   "cell_type": "code",
   "execution_count": 45,
   "id": "52189997",
   "metadata": {
    "nbgrader": {
     "grade": false,
     "grade_id": "cell-a9d612a0cf6e4038",
     "locked": false,
     "schema_version": 3,
     "solution": true,
     "task": false
    }
   },
   "outputs": [
    {
     "name": "stdout",
     "output_type": "stream",
     "text": [
      "1020.0\n"
     ]
    }
   ],
   "source": [
    "### BEGIN SOLUTION\n",
    "\n",
    "saldo_final = saldo_inicial + interes\n",
    "\n",
    "### END SOLUTION\n",
    "\n",
    "print(saldo_final)"
   ]
  },
  {
   "cell_type": "code",
   "execution_count": 46,
   "id": "8f0da6c5",
   "metadata": {
    "nbgrader": {
     "grade": true,
     "grade_id": "cell-c1f214d81aac268b",
     "locked": true,
     "points": 0.25,
     "schema_version": 3,
     "solution": false,
     "task": false
    }
   },
   "outputs": [],
   "source": [
    "### BEGIN HIDDEN TESTS\n",
    "\n",
    "assert saldo_final == 1020\n",
    "\n",
    "### END HIDDEN TESTS"
   ]
  },
  {
   "cell_type": "markdown",
   "id": "4ab81f7f",
   "metadata": {
    "nbgrader": {
     "grade": false,
     "grade_id": "cell-8c21249476e5ed84",
     "locked": true,
     "schema_version": 3,
     "solution": false,
     "task": false
    }
   },
   "source": [
    "* Cuarto, muestra el saldo final con dos decimales y el símbolo del euro. Crea una variable llamada ```mensaje``` que contenga el texto ```El saldo final después de un año es 1020.00€```, usando la variable ```saldo_final``` para mostrar la cifra."
   ]
  },
  {
   "cell_type": "code",
   "execution_count": 50,
   "id": "e47cf740",
   "metadata": {
    "nbgrader": {
     "grade": false,
     "grade_id": "cell-b3b76f1b6c7c3575",
     "locked": false,
     "schema_version": 3,
     "solution": true,
     "task": false
    }
   },
   "outputs": [
    {
     "name": "stdout",
     "output_type": "stream",
     "text": [
      "El saldo final después de un año es 1020.00€\n"
     ]
    }
   ],
   "source": [
    "### BEGIN SOLUTION\n",
    "\n",
    "mensaje = f\"El saldo final después de un año es {saldo_final:.2f}€\"\n",
    "\n",
    "### END SOLUTION\n",
    "\n",
    "print(mensaje)"
   ]
  },
  {
   "cell_type": "code",
   "execution_count": 51,
   "id": "bbd62894",
   "metadata": {
    "nbgrader": {
     "grade": true,
     "grade_id": "cell-c539f89938bf6348",
     "locked": true,
     "points": 0.25,
     "schema_version": 3,
     "solution": false,
     "task": false
    }
   },
   "outputs": [],
   "source": [
    "### BEGIN HIDDEN TESTS\n",
    "\n",
    "assert mensaje == \"El saldo final después de un año es 1020.00€\"\n",
    "\n",
    "### END HIDDEN TESTS"
   ]
  },
  {
   "cell_type": "markdown",
   "id": "efb93ff1",
   "metadata": {
    "nbgrader": {
     "grade": false,
     "grade_id": "cell-22914d16abfb2e0a",
     "locked": true,
     "schema_version": 3,
     "solution": false,
     "task": false
    }
   },
   "source": [
    "## Ejercicio 7 (1 punto)\n",
    "\n"
   ]
  },
  {
   "cell_type": "markdown",
   "id": "89ba73a6",
   "metadata": {
    "nbgrader": {
     "grade": false,
     "grade_id": "cell-4759f47d3c8e2227",
     "locked": true,
     "schema_version": 3,
     "solution": false,
     "task": false
    }
   },
   "source": [
    "Supongamos que quieres comprar un ordenador portátil que cuesta 800 euros, pero solo tienes 500 euros ahorrados. Decides pedir un préstamo al banco por la diferencia con un interés anual del 10% y devolverlo en 18 meses."
   ]
  },
  {
   "cell_type": "markdown",
   "id": "1f6dfd53",
   "metadata": {
    "nbgrader": {
     "grade": false,
     "grade_id": "cell-1c270fc2751faef3",
     "locked": true,
     "schema_version": 3,
     "solution": false,
     "task": false
    }
   },
   "source": [
    "* Primero, calcula el importe total a devolver al banco. Almacena este valor en la variable ```total_devolver```"
   ]
  },
  {
   "cell_type": "code",
   "execution_count": 78,
   "id": "c0d4d7c3",
   "metadata": {
    "nbgrader": {
     "grade": false,
     "grade_id": "cell-232ce417a49fa0c1",
     "locked": false,
     "schema_version": 3,
     "solution": true,
     "task": false
    }
   },
   "outputs": [
    {
     "name": "stdout",
     "output_type": "stream",
     "text": [
      "348.3336989406774\n"
     ]
    }
   ],
   "source": [
    "r = 0.10 # Tasa de interés anual del 10%\n",
    "importe_total = 800\n",
    "importe_ahorros = 500\n",
    "cuotas = 18\n",
    "\n",
    "### BEGIN SOLUTION\n",
    "\n",
    "total_devolver = (importe_total - importe_ahorros) * (1 + (r/12))**cuotas\n",
    "\n",
    "### END SOLUTION\n",
    "\n",
    "print(total_devolver)"
   ]
  },
  {
   "cell_type": "code",
   "execution_count": 79,
   "id": "ed2c0118",
   "metadata": {
    "nbgrader": {
     "grade": true,
     "grade_id": "cell-3190b63d82be068b",
     "locked": true,
     "points": 0.25,
     "schema_version": 3,
     "solution": false,
     "task": false
    }
   },
   "outputs": [],
   "source": [
    "### BEGIN HIDDEN TESTS\n",
    "\n",
    "assert total_devolver == 348.3336989406774\n",
    "\n",
    "### END HIDDEN TESTS"
   ]
  },
  {
   "cell_type": "markdown",
   "id": "03e75624",
   "metadata": {
    "nbgrader": {
     "grade": false,
     "grade_id": "cell-7c107125a3b47cfb",
     "locked": true,
     "schema_version": 3,
     "solution": false,
     "task": false
    }
   },
   "source": [
    "* Segundo, calcula la cuota mensual que tendrás que pagar al banco. Obtén la división entera, es decir, sin decimales, y guárdala en la variable ```cuota``` de tipo entero."
   ]
  },
  {
   "cell_type": "code",
   "execution_count": 80,
   "id": "e0805f4c",
   "metadata": {
    "nbgrader": {
     "grade": false,
     "grade_id": "cell-78cabf2db7490ce3",
     "locked": false,
     "schema_version": 3,
     "solution": true,
     "task": false
    }
   },
   "outputs": [
    {
     "name": "stdout",
     "output_type": "stream",
     "text": [
      "19\n"
     ]
    }
   ],
   "source": [
    "### BEGIN SOLUTION\n",
    "\n",
    "cuota = int(total_devolver // cuotas)\n",
    "\n",
    "### END SOLUTION\n",
    "\n",
    "print(cuota)"
   ]
  },
  {
   "cell_type": "code",
   "execution_count": 81,
   "id": "d5747a01",
   "metadata": {
    "nbgrader": {
     "grade": true,
     "grade_id": "cell-7c6f3b4ef0e04a55",
     "locked": true,
     "points": 0.25,
     "schema_version": 3,
     "solution": false,
     "task": false
    }
   },
   "outputs": [],
   "source": [
    "### BEGIN HIDDEN TESTS\n",
    "\n",
    "assert cuota == 19\n",
    "assert type(cuota) == int\n",
    "\n",
    "### END HIDDEN TESTS"
   ]
  },
  {
   "cell_type": "markdown",
   "id": "f7031044",
   "metadata": {
    "nbgrader": {
     "grade": false,
     "grade_id": "cell-0e6498e84784e69d",
     "locked": true,
     "schema_version": 3,
     "solution": false,
     "task": false
    }
   },
   "source": [
    "* Tercero, calcula el resto que te quedará por pagar después de pagar la última cuota. Obtén el módulo, es decir, el residuo de la división entera, y guárdalo en la variable ```resto```."
   ]
  },
  {
   "cell_type": "code",
   "execution_count": 82,
   "id": "ac2d0deb",
   "metadata": {
    "nbgrader": {
     "grade": false,
     "grade_id": "cell-84cd871694f79e23",
     "locked": false,
     "schema_version": 3,
     "solution": true,
     "task": false
    }
   },
   "outputs": [
    {
     "name": "stdout",
     "output_type": "stream",
     "text": [
      "6.33369894067738\n"
     ]
    }
   ],
   "source": [
    "### BEGIN SOLUTION\n",
    "\n",
    "resto = total_devolver % cuotas\n",
    "\n",
    "### END SOLUTION\n",
    "\n",
    "print(resto)"
   ]
  },
  {
   "cell_type": "code",
   "execution_count": 83,
   "id": "8f678e84",
   "metadata": {
    "nbgrader": {
     "grade": true,
     "grade_id": "cell-d3efa612f2f29807",
     "locked": true,
     "points": 0.25,
     "schema_version": 3,
     "solution": false,
     "task": false
    }
   },
   "outputs": [],
   "source": [
    "### BEGIN HIDDEN TESTS\n",
    "\n",
    "assert resto == 6.33369894067738\n",
    "assert type(resto) == float\n",
    "\n",
    "### END HIDDEN TESTS"
   ]
  },
  {
   "cell_type": "markdown",
   "id": "f1898545",
   "metadata": {
    "nbgrader": {
     "grade": false,
     "grade_id": "cell-4d4dd0c40497c36c",
     "locked": true,
     "schema_version": 3,
     "solution": false,
     "task": false
    }
   },
   "source": [
    "* Calcula el importe de la última cuota y almacénalo en la variable ```ultima_cuota```\n",
    "* Muestra un mensaje en el que se indique ```Las primeras 17 cuotas serán de 19€, la última cuota será de 25.33€``` utilizando las variables calculadas anteriormente."
   ]
  },
  {
   "cell_type": "code",
   "execution_count": 85,
   "id": "c2bcd020",
   "metadata": {
    "nbgrader": {
     "grade": false,
     "grade_id": "cell-771d1db654ea8489",
     "locked": false,
     "schema_version": 3,
     "solution": true,
     "task": false
    }
   },
   "outputs": [
    {
     "name": "stdout",
     "output_type": "stream",
     "text": [
      "Las primeras 11 cuotas serán de 19€, la última cuota será de 25.33€\n"
     ]
    }
   ],
   "source": [
    "### BEGIN SOLUTION\n",
    "\n",
    "ultima_cuota = cuota + resto\n",
    "mensaje = f\"Las primeras 11 cuotas serán de {cuota}€, la última cuota será de {ultima_cuota:.2f}€\"\n",
    "\n",
    "### END SOLUTION\n",
    "\n",
    "print(mensaje)"
   ]
  },
  {
   "cell_type": "code",
   "execution_count": 88,
   "id": "7ce76171",
   "metadata": {
    "nbgrader": {
     "grade": true,
     "grade_id": "cell-2bf98eb987d8f66d",
     "locked": true,
     "points": 0.25,
     "schema_version": 3,
     "solution": false,
     "task": false
    }
   },
   "outputs": [],
   "source": [
    "### BEGIN HIDDEN TESTS\n",
    "\n",
    "assert ultima_cuota == 25.33369894067738\n",
    "assert type(ultima_cuota) == float\n",
    "assert mensaje == \"Las primeras 11 cuotas serán de 19€, la última cuota será de 25.33€\"\n",
    "\n",
    "### END HIDDEN TESTS"
   ]
  },
  {
   "cell_type": "markdown",
   "id": "1d9c2228",
   "metadata": {
    "nbgrader": {
     "grade": false,
     "grade_id": "cell-672cad57025da0c4",
     "locked": true,
     "schema_version": 3,
     "solution": false,
     "task": false
    }
   },
   "source": [
    "## Ejercicio 8 (1 punto)\n",
    "\n"
   ]
  },
  {
   "cell_type": "markdown",
   "id": "e599dc66",
   "metadata": {
    "nbgrader": {
     "grade": false,
     "grade_id": "cell-3c4c513f7eab52cc",
     "locked": true,
     "schema_version": 3,
     "solution": false,
     "task": false
    }
   },
   "source": [
    "Supongamos que queremos escribir un programa que pida al usuario que introduzca una cantidad de dinero en euros y luego le muestre el equivalente en dólares.\n",
    "* Usaremos un tipo de cambio fijo de 1 euro = 1.17 dólares.\n",
    "* El usuario solo puede introducir números válidos, si no, mostrará un mensaje de error.\n",
    "* Debes usar las funciones ```round```, ```str.split``` y ```str.isnumeric``` para este ejercicio.\n",
    "\n",
    "Un ejemplo de salida sería:\n",
    "\n",
    "Introduzca una cantidad de dinero en euros: 50\\\n",
    "El equivalente en dólares es 58.5\n",
    "\n",
    "Otro ejemplo de salida sería:\n",
    "\n",
    "Introduzca una cantidad de dinero en euros: 12.75\\\n",
    "El equivalente en dólares es 14.92\n",
    "\n",
    "Otro ejemplo de salida sería:\n",
    "\n",
    "Introduzca una cantidad de dinero en euros: hola\\\n",
    "Error: por favor, introduzca solo números.\n"
   ]
  },
  {
   "cell_type": "code",
   "execution_count": 1,
   "id": "1607f0a7",
   "metadata": {
    "nbgrader": {
     "grade": false,
     "grade_id": "cell-f12cf5e5cf8cc824",
     "locked": false,
     "schema_version": 3,
     "solution": true,
     "task": false
    }
   },
   "outputs": [
    {
     "name": "stdout",
     "output_type": "stream",
     "text": [
      "El equivalente en dólares es 11.7\n"
     ]
    }
   ],
   "source": [
    "# Definimos la tasa de cambio fija\n",
    "tasa = 1.17\n",
    "\n",
    "### BEGIN SOLUTION\n",
    "\n",
    "def convertir_euros_a_dolares(euros:float, tasa:float)->float:\n",
    "    \"\"\"Convierte una cantidad de euros a dólares.\n",
    "\n",
    "    Args:\n",
    "        euros (float): cantidad de euros a convertir\n",
    "        tasa (float): tasa de cambio de euros a dólares\n",
    "\n",
    "    Returns:\n",
    "        float: cantidad de dólares equivalente a la cantidad de euros\n",
    "    \"\"\"\n",
    "    # Calcular el equivalente en dólares usando la tasa de cambio\n",
    "    dolares = euros * tasa\n",
    "\n",
    "    # Redondear el resultado a dos decimales usando la función round\n",
    "    dolares = round(dolares, 2)\n",
    "\n",
    "    return dolares\n",
    "\n",
    "def comprobar_si_es_numero(numero:str)->bool:\n",
    "    \"\"\"Comprueba si una cadena es un número válido.\n",
    "\n",
    "    Args:\n",
    "        numero (str): cadena con el número a comprobar\n",
    "\n",
    "    Returns:\n",
    "        bool: True si la cadena es un número válido, False en caso contrario\n",
    "    \"\"\"\n",
    "    # Comprobar si el usuario ha introducido solo números\n",
    "    # Para ello, se puede usar la función str.split para separar la parte entera y la decimal por el punto\n",
    "    # y luego usar la función str.isnumeric para ver si ambas partes son numéricas\n",
    "    # Una cadena es numérica si todos los caracteres son numéricos y hay al menos un caracter.\n",
    "    partes = numero.split(\".\")\n",
    "    if len(partes) == 1 and partes[0].isnumeric():\n",
    "        # El usuario ha introducido un número entero\n",
    "        valido = True\n",
    "    elif len(partes) == 2 and partes[0].isnumeric() and partes[1].isnumeric():\n",
    "        # El usuario ha introducido un número decimal\n",
    "        valido = True\n",
    "    else:\n",
    "        # El usuario ha introducido algo que no es un número\n",
    "        valido = False\n",
    "    \n",
    "    return valido\n",
    "\n",
    "# Pedimos al usuario que introduzca una cantidad de dinero en euros\n",
    "euros = input(\"Introduzca una cantidad de dinero en euros: \")\n",
    "\n",
    "# Comprobar si el usuario ha introducido solo números\n",
    "valido = comprobar_si_es_numero(euros)\n",
    "\n",
    "# Si el usuario ha introducido un número válido, calcular el equivalente en dólares y mostrarlo por pantalla\n",
    "if valido:\n",
    "    # Convertir el string euros a un número real\n",
    "    euros = float(euros)\n",
    "\n",
    "    # Calcular el equivalente en dólares usando la tasa de cambio\n",
    "    dolares = convertir_euros_a_dolares(euros, tasa)\n",
    "    \n",
    "    # Mostrar el resultado por pantalla\n",
    "    print(\"El equivalente en dólares es\", dolares)\n",
    "else:\n",
    "    # Mostrar un mensaje de error por pantalla\n",
    "    print(\"Error: por favor, introduzca solo números.\")\n",
    "\n",
    "### END SOLUTION"
   ]
  },
  {
   "cell_type": "code",
   "execution_count": null,
   "id": "17c73ef9",
   "metadata": {
    "nbgrader": {
     "grade": true,
     "grade_id": "cell-8d2aff0fdcf50720",
     "locked": true,
     "points": 1,
     "schema_version": 3,
     "solution": false,
     "task": false
    }
   },
   "outputs": [],
   "source": [
    "### BEGIN HIDDEN TESTS\n",
    "\n",
    "assert convertir_euros_a_dolares(100, 1.17) == 117\n",
    "assert comprobar_si_es_numero(\"100\") == True\n",
    "assert comprobar_si_es_numero(\"hola\") == False\n",
    "\n",
    "### END HIDDEN TESTS"
   ]
  },
  {
   "cell_type": "markdown",
   "id": "10f7bcc9",
   "metadata": {
    "nbgrader": {
     "grade": false,
     "grade_id": "cell-e0839fee0bcf11c8",
     "locked": true,
     "schema_version": 3,
     "solution": false,
     "task": false
    }
   },
   "source": [
    "## Ejercicio 9 (1 punto)\n",
    "\n"
   ]
  },
  {
   "cell_type": "markdown",
   "id": "59b6157e",
   "metadata": {
    "nbgrader": {
     "grade": false,
     "grade_id": "cell-483021aefd23ed8d",
     "locked": true,
     "schema_version": 3,
     "solution": false,
     "task": false
    }
   },
   "source": [
    "Crea una lista que se llame ```numeros``` con los números del 1 al 20 en orden descendente.\n",
    "\n",
    "Ref.:\n",
    "* https://docs.python.org/3/tutorial/introduction.html#lists\n",
    "* https://docs.python.org/3/tutorial/datastructures.html\n",
    "* https://docs.python.org/3/tutorial/controlflow.html#for-statements\n",
    "* https://docs.python.org/3/tutorial/controlflow.html#the-range-function"
   ]
  },
  {
   "cell_type": "code",
   "execution_count": 116,
   "id": "0cf4b0b6",
   "metadata": {
    "nbgrader": {
     "grade": false,
     "grade_id": "cell-6312cf4cac45b78d",
     "locked": false,
     "schema_version": 3,
     "solution": true,
     "task": false
    }
   },
   "outputs": [],
   "source": [
    "### BEGIN SOLUTION\n",
    "\n",
    "# Opción 1: usando un bucle for\n",
    "numeros = []\n",
    "for i in range(20, 0, -1):\n",
    "    numeros.append(i)\n",
    "\n",
    "# Opción 2: usando range y una conversión a lista\n",
    "numeros = list(range(20, 0, -1))\n",
    "\n",
    "### END SOLUTION"
   ]
  },
  {
   "cell_type": "code",
   "execution_count": 117,
   "id": "f77b61c3",
   "metadata": {
    "nbgrader": {
     "grade": true,
     "grade_id": "cell-c29d92e358eb72bb",
     "locked": true,
     "points": 1,
     "schema_version": 3,
     "solution": false,
     "task": false
    }
   },
   "outputs": [],
   "source": [
    "### BEGIN HIDDEN TESTS\n",
    "\n",
    "assert numeros == [20, 19, 18, 17, 16, 15, 14, 13, 12, 11, 10, 9, 8, 7, 6, 5, 4, 3, 2, 1]\n",
    "\n",
    "### END HIDDEN TESTS"
   ]
  },
  {
   "cell_type": "markdown",
   "id": "4e989f44",
   "metadata": {
    "nbgrader": {
     "grade": false,
     "grade_id": "cell-c7b4c32e40078782",
     "locked": true,
     "schema_version": 3,
     "solution": false,
     "task": false
    }
   },
   "source": [
    "## Ejercicio 10 (1 punto)\n",
    "\n",
    "Crea una función que calcule los 20 primeros números de la sucesión de Fibonacci y los almacene en una variable llamada ```numeros```.\n",
    "\n",
    "* Los dos primeros números de la sucesión deben ser ```[0, 1]```\n",
    "* La sucesión que se espera como resultado es ```[0, 1, 1, 2, 3, 5, 8, 13, 21, 34, 55, 89, 144, 233, 377, 610, 987, 1597, 2584, 4181, 6765, 10946]```\n",
    "\n",
    "Ref.:\n",
    "* https://es.wikipedia.org/wiki/Sucesión_de_Fibonacci"
   ]
  },
  {
   "cell_type": "code",
   "execution_count": 129,
   "id": "440de336",
   "metadata": {
    "nbgrader": {
     "grade": false,
     "grade_id": "cell-20b38745a8afe02b",
     "locked": false,
     "schema_version": 3,
     "solution": true,
     "task": false
    }
   },
   "outputs": [],
   "source": [
    "### BEGIN SOLUTION\n",
    "\n",
    "def sucesion_fibonacci():\n",
    "    sucesion = [0, 1]\n",
    "\n",
    "    for i in range(20):\n",
    "        sucesion.append(sucesion[-1] + sucesion[-2])\n",
    "    \n",
    "    return sucesion\n",
    "\n",
    "numeros = sucesion_fibonacci()\n",
    "\n",
    "### END SOLUTION"
   ]
  },
  {
   "cell_type": "code",
   "execution_count": null,
   "id": "64a717cb",
   "metadata": {
    "nbgrader": {
     "grade": true,
     "grade_id": "cell-69e12d30e4ae3559",
     "locked": true,
     "points": 1,
     "schema_version": 3,
     "solution": false,
     "task": false
    }
   },
   "outputs": [],
   "source": [
    "### BEGIN HIDDEN TESTS\n",
    "\n",
    "assert numeros == [0, 1, 1, 2, 3, 5, 8, 13, 21, 34, 55, 89, 144, 233, 377, 610, 987, 1597, 2584, 4181, 6765, 10946]\n",
    "\n",
    "### END HIDDEN TESTS"
   ]
  }
 ],
 "metadata": {
  "kernelspec": {
   "display_name": "Python 3 (ipykernel)",
   "language": "python",
   "name": "python3"
  },
  "language_info": {
   "codemirror_mode": {
    "name": "ipython",
    "version": 3
   },
   "file_extension": ".py",
   "mimetype": "text/x-python",
   "name": "python",
   "nbconvert_exporter": "python",
   "pygments_lexer": "ipython3",
   "version": "3.10.3"
  }
 },
 "nbformat": 4,
 "nbformat_minor": 5
}
