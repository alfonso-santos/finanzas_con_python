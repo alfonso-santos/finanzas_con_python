{
 "cells": [
  {
   "cell_type": "markdown",
   "id": "bf130c28",
   "metadata": {
    "deletable": false,
    "editable": false,
    "nbgrader": {
     "cell_type": "markdown",
     "checksum": "860579a48c7ada72602a3b8f2e0892b5",
     "grade": false,
     "grade_id": "cell-b897313b47170795",
     "locked": true,
     "schema_version": 3,
     "solution": false,
     "task": false
    }
   },
   "source": [
    "# Examen <span style=\"color: #FFA500\">Core, funciones incorporadas y strings</span>"
   ]
  },
  {
   "cell_type": "markdown",
   "id": "ab9e1781",
   "metadata": {
    "deletable": false,
    "editable": false,
    "nbgrader": {
     "cell_type": "markdown",
     "checksum": "1742c8cfd7dae233c508d7f9c4d76c2f",
     "grade": false,
     "grade_id": "cell-9b856aead4417c45",
     "locked": true,
     "schema_version": 3,
     "solution": false,
     "task": false
    }
   },
   "source": [
    "## Ejercicio 1 (1 punto)\n",
    "\n"
   ]
  },
  {
   "cell_type": "markdown",
   "id": "62c796ac",
   "metadata": {
    "deletable": false,
    "editable": false,
    "nbgrader": {
     "cell_type": "markdown",
     "checksum": "1e63addd8374740628480ff0fec0242e",
     "grade": false,
     "grade_id": "cell-88c5ec235210a843",
     "locked": true,
     "schema_version": 3,
     "solution": false,
     "task": false
    }
   },
   "source": [
    "Crea, inicializa y opera con tres variables ```x, y, z``` de manera que ```z``` valga 30 al terminar la ejecución de la celda."
   ]
  },
  {
   "cell_type": "code",
   "execution_count": null,
   "id": "5ab83455-b9fe-4a9d-91b8-0a85f04ea637",
   "metadata": {
    "deletable": false,
    "nbgrader": {
     "cell_type": "code",
     "checksum": "8beac9ede5599ce74003720ccf9bb9ef",
     "grade": false,
     "grade_id": "cell-a54400a1ecd4cad6",
     "locked": false,
     "schema_version": 3,
     "solution": true,
     "task": false
    }
   },
   "outputs": [],
   "source": [
    "# YOUR CODE HERE\n",
    "raise NotImplementedError()\n",
    "\n",
    "print(z)"
   ]
  },
  {
   "cell_type": "code",
   "execution_count": null,
   "id": "2c29adde",
   "metadata": {
    "deletable": false,
    "editable": false,
    "nbgrader": {
     "cell_type": "code",
     "checksum": "6987aa1af2e7921d2dd8e3eff74f98c4",
     "grade": true,
     "grade_id": "cell-01b9230322b8f61f",
     "locked": true,
     "points": 1,
     "schema_version": 3,
     "solution": false,
     "task": false
    }
   },
   "outputs": [],
   "source": []
  },
  {
   "cell_type": "markdown",
   "id": "966eaec1",
   "metadata": {
    "deletable": false,
    "editable": false,
    "nbgrader": {
     "cell_type": "markdown",
     "checksum": "79d81a175e68f64aeb383643cb85f6cd",
     "grade": false,
     "grade_id": "cell-ec62a12471d0fa2f",
     "locked": true,
     "schema_version": 3,
     "solution": false,
     "task": false
    }
   },
   "source": [
    "## Ejercicio 2 (1 punto)\n",
    "\n"
   ]
  },
  {
   "cell_type": "markdown",
   "id": "c3aa78ff",
   "metadata": {
    "deletable": false,
    "editable": false,
    "nbgrader": {
     "cell_type": "markdown",
     "checksum": "99a13bba80c3731061e8dfd8096e033b",
     "grade": false,
     "grade_id": "cell-d097c05966179fa3",
     "locked": true,
     "schema_version": 3,
     "solution": false,
     "task": false
    }
   },
   "source": [
    "* Crea una variable ```x``` e inicialízala con el valor ```float``` 10.5\n"
   ]
  },
  {
   "cell_type": "code",
   "execution_count": null,
   "id": "68651516",
   "metadata": {
    "deletable": false,
    "nbgrader": {
     "cell_type": "code",
     "checksum": "da16c3720793ab0c1b025c4f4d85bf37",
     "grade": false,
     "grade_id": "cell-8fb40d6b5125dab5",
     "locked": false,
     "schema_version": 3,
     "solution": true,
     "task": false
    }
   },
   "outputs": [],
   "source": [
    "# YOUR CODE HERE\n",
    "raise NotImplementedError()\n",
    "\n",
    "print(x)"
   ]
  },
  {
   "cell_type": "code",
   "execution_count": null,
   "id": "a8a3b956",
   "metadata": {
    "deletable": false,
    "editable": false,
    "nbgrader": {
     "cell_type": "code",
     "checksum": "9c5a48883bb0dfc5057bdd6f6f6625bd",
     "grade": true,
     "grade_id": "cell-8808493c24993de7",
     "locked": true,
     "points": 0.5,
     "schema_version": 3,
     "solution": false,
     "task": false
    }
   },
   "outputs": [],
   "source": []
  },
  {
   "cell_type": "markdown",
   "id": "aa71e072",
   "metadata": {
    "deletable": false,
    "editable": false,
    "nbgrader": {
     "cell_type": "markdown",
     "checksum": "080dd0f6bd70324e7dc41a27a6732f99",
     "grade": false,
     "grade_id": "cell-a5dbc6e015cc99f6",
     "locked": true,
     "schema_version": 3,
     "solution": false,
     "task": false
    }
   },
   "source": [
    "* Conviértela, asignándola a sí misma, a ```int``` utilizando la función al efecto de Python.\n"
   ]
  },
  {
   "cell_type": "code",
   "execution_count": null,
   "id": "868a829d",
   "metadata": {
    "deletable": false,
    "nbgrader": {
     "cell_type": "code",
     "checksum": "fbfd1677242c87ab2e294068f5df8b12",
     "grade": false,
     "grade_id": "cell-5522c2752130898c",
     "locked": false,
     "schema_version": 3,
     "solution": true,
     "task": false
    }
   },
   "outputs": [],
   "source": [
    "# YOUR CODE HERE\n",
    "raise NotImplementedError()\n",
    "\n",
    "print(x)"
   ]
  },
  {
   "cell_type": "code",
   "execution_count": null,
   "id": "d46777c6",
   "metadata": {
    "deletable": false,
    "editable": false,
    "nbgrader": {
     "cell_type": "code",
     "checksum": "f63319b50df62b8fe78f631d2e0e2572",
     "grade": true,
     "grade_id": "cell-5995b5bc9367119a",
     "locked": true,
     "points": 0.5,
     "schema_version": 3,
     "solution": false,
     "task": false
    }
   },
   "outputs": [],
   "source": []
  },
  {
   "cell_type": "markdown",
   "id": "f15d66d4",
   "metadata": {
    "deletable": false,
    "editable": false,
    "nbgrader": {
     "cell_type": "markdown",
     "checksum": "402a0494284794d2e347ba40b3dec249",
     "grade": false,
     "grade_id": "cell-27086f947e43656f",
     "locked": true,
     "schema_version": 3,
     "solution": false,
     "task": false
    }
   },
   "source": [
    "## Ejercicio 3 (1 punto)\n",
    "\n"
   ]
  },
  {
   "cell_type": "markdown",
   "id": "63c2cbc5",
   "metadata": {
    "deletable": false,
    "editable": false,
    "nbgrader": {
     "cell_type": "markdown",
     "checksum": "04e1c8adc991fe6a57a79cfdde02e432",
     "grade": false,
     "grade_id": "cell-d4a3515fa59aab90",
     "locked": true,
     "schema_version": 3,
     "solution": false,
     "task": false
    }
   },
   "source": [
    "* Sustitye la vocal ```a``` del texto almacenado en ```x``` por un guión bajo ( ```_``` )"
   ]
  },
  {
   "cell_type": "code",
   "execution_count": null,
   "id": "aa7f9694",
   "metadata": {
    "deletable": false,
    "nbgrader": {
     "cell_type": "code",
     "checksum": "80248d4e8951844deb1c6446d524080a",
     "grade": false,
     "grade_id": "cell-07c99e02b3091a49",
     "locked": false,
     "schema_version": 3,
     "solution": true,
     "task": false
    }
   },
   "outputs": [],
   "source": [
    "# Ref.: https://es.wikipedia.org/wiki/Gu%C3%ADa_del_autoestopista_gal%C3%A1ctico_(novela)\n",
    "x = \"\"\"\n",
    "La Guía del autoestopista galáctico (The Hitchhiker's Guide to the Galaxy en inglés) es una novela de ciencia ficción de Douglas Adams publicada en octubre de 1979. Es el primer libro de seis que conforman la famosa serie de la Guía del autoestopista galáctico, que fue originalmente una radiocomedia escrita por el mismo autor en 1978.\n",
    "\n",
    "El título del libro fue inspirado en la guía Hitch-hiker's Guide to Europe para viajar en autoestop por Europa. La saga de la Guía del autoestopista galáctico ha sido difundida de diferentes maneras, incluyendo una serie de televisión, un videojuego, un cómic y hasta una dramatización teatral, convirtiendo a su autor en una figura influyente en el campo de la ciencia ficción y la comedia.\n",
    "\n",
    "El libro vendió 250 000 copias en los primeros tres meses tras ser publicado. Hasta 2018 había vendido 16 millones de ejemplares.\n",
    "\"\"\"\n",
    "\n",
    "# YOUR CODE HERE\n",
    "raise NotImplementedError()\n",
    "\n",
    "print(x)"
   ]
  },
  {
   "cell_type": "code",
   "execution_count": null,
   "id": "e88e72f7",
   "metadata": {
    "deletable": false,
    "editable": false,
    "nbgrader": {
     "cell_type": "code",
     "checksum": "fa8d9a47e9e6bfd6e5b5885965788c35",
     "grade": true,
     "grade_id": "cell-67f6b0b3b0a6dd9e",
     "locked": true,
     "points": 0.5,
     "schema_version": 3,
     "solution": false,
     "task": false
    }
   },
   "outputs": [],
   "source": []
  },
  {
   "cell_type": "markdown",
   "id": "bbcb69d5",
   "metadata": {
    "deletable": false,
    "editable": false,
    "nbgrader": {
     "cell_type": "markdown",
     "checksum": "d82a60447b2b068f38fe6d4c93391783",
     "grade": false,
     "grade_id": "cell-05619f9da7a9bc14",
     "locked": true,
     "schema_version": 3,
     "solution": false,
     "task": false
    }
   },
   "source": [
    "* Sustitye las dos primeras vocales ```e``` del texto almacenado en ```x``` resultado de la celda anterior por un guión bajo ( ```_``` )"
   ]
  },
  {
   "cell_type": "code",
   "execution_count": null,
   "id": "ba9cc9f2",
   "metadata": {
    "deletable": false,
    "nbgrader": {
     "cell_type": "code",
     "checksum": "6eedd1378495c240e9ffdd376d0ed41e",
     "grade": false,
     "grade_id": "cell-94b29237334b1bec",
     "locked": false,
     "schema_version": 3,
     "solution": true,
     "task": false
    }
   },
   "outputs": [],
   "source": [
    "# YOUR CODE HERE\n",
    "raise NotImplementedError()\n",
    "\n",
    "print(x)"
   ]
  },
  {
   "cell_type": "code",
   "execution_count": null,
   "id": "e8d8b638",
   "metadata": {
    "deletable": false,
    "editable": false,
    "nbgrader": {
     "cell_type": "code",
     "checksum": "9c68d080627246ce6655611c349332ca",
     "grade": true,
     "grade_id": "cell-3eba07b18619d384",
     "locked": true,
     "points": 0.5,
     "schema_version": 3,
     "solution": false,
     "task": false
    }
   },
   "outputs": [],
   "source": []
  },
  {
   "cell_type": "markdown",
   "id": "aca0d6ca",
   "metadata": {
    "deletable": false,
    "editable": false,
    "nbgrader": {
     "cell_type": "markdown",
     "checksum": "bc4cc66860665bb6fb2c4c0f8ee6d11a",
     "grade": false,
     "grade_id": "cell-b7d57db374c1f75c",
     "locked": true,
     "schema_version": 3,
     "solution": false,
     "task": false
    }
   },
   "source": [
    "## Ejercicio 4 (1 punto)\n",
    "\n"
   ]
  },
  {
   "cell_type": "markdown",
   "id": "b4834bc9",
   "metadata": {
    "deletable": false,
    "editable": false,
    "nbgrader": {
     "cell_type": "markdown",
     "checksum": "1f66c024e639db0f13eb33f533c147f0",
     "grade": false,
     "grade_id": "cell-fe2b6f97583def4a",
     "locked": true,
     "schema_version": 3,
     "solution": false,
     "task": false
    }
   },
   "source": [
    "Calcula el área de una elipse con los siguientes valores para su radio mayor (```r_a```) y radio menor (```r_b```):\n",
    "* ```r_a``` vale 10\n",
    "* ```r_b``` vale 5\n",
    "\n",
    "$A = \\pi*r_a*r_b$"
   ]
  },
  {
   "cell_type": "code",
   "execution_count": null,
   "id": "da8592a8",
   "metadata": {
    "deletable": false,
    "nbgrader": {
     "cell_type": "code",
     "checksum": "6a6771ce273008154fcb8d6695c360e5",
     "grade": false,
     "grade_id": "cell-fe8faf9c96779430",
     "locked": false,
     "schema_version": 3,
     "solution": true,
     "task": false
    }
   },
   "outputs": [],
   "source": [
    "import math\n",
    "\n",
    "r_a = # Asigna un valor a r_a\n",
    "r_b = # Asigna un valor a r_b\n",
    "\n",
    "# YOUR CODE HERE\n",
    "raise NotImplementedError()\n",
    "\n",
    "print(A)"
   ]
  },
  {
   "cell_type": "code",
   "execution_count": null,
   "id": "b405cf92",
   "metadata": {
    "deletable": false,
    "editable": false,
    "nbgrader": {
     "cell_type": "code",
     "checksum": "54d5ab42fb479b6dedc6c7ff73226dbf",
     "grade": true,
     "grade_id": "cell-7d9f6782826372ca",
     "locked": true,
     "points": 1,
     "schema_version": 3,
     "solution": false,
     "task": false
    }
   },
   "outputs": [],
   "source": []
  },
  {
   "cell_type": "markdown",
   "id": "76fb207b",
   "metadata": {
    "deletable": false,
    "editable": false,
    "nbgrader": {
     "cell_type": "markdown",
     "checksum": "7c9c2a25a46233a1444ae13b08ae43f7",
     "grade": false,
     "grade_id": "cell-af8c658287982d78",
     "locked": true,
     "schema_version": 3,
     "solution": false,
     "task": false
    }
   },
   "source": [
    "## Ejercicio 5 (1 punto)\n",
    "\n"
   ]
  },
  {
   "cell_type": "markdown",
   "id": "1cf8134a",
   "metadata": {
    "deletable": false,
    "editable": false,
    "nbgrader": {
     "cell_type": "markdown",
     "checksum": "f9bb80f578c9f118fe2e03b078925d6b",
     "grade": false,
     "grade_id": "cell-cdbc4307d06272ab",
     "locked": true,
     "schema_version": 3,
     "solution": false,
     "task": false
    }
   },
   "source": [
    "Calcula el rendimiento diario de Apple entre los días 28/09/2023 y 29/09/2023 y almacénalo en la variable ```rentab```\n",
    "* VL del 28/09/2023 es 169.34\n",
    "* VL del 29/09/2023 es 172.02\n",
    "\n",
    "$rentab = \\frac{(vl_2 - vl_1)}{vl_1}$"
   ]
  },
  {
   "cell_type": "code",
   "execution_count": null,
   "id": "12625b3b",
   "metadata": {
    "deletable": false,
    "nbgrader": {
     "cell_type": "code",
     "checksum": "68a4f324eba6050a102f7b01fb5fc25c",
     "grade": false,
     "grade_id": "cell-ca005f751a58e53c",
     "locked": false,
     "schema_version": 3,
     "solution": true,
     "task": false
    }
   },
   "outputs": [],
   "source": [
    "vl_1 =  # Asigna un valor a vl_1\n",
    "vl_2 =  # Asigna un valor a vl_2\n",
    "\n",
    "# YOUR CODE HERE\n",
    "raise NotImplementedError()\n",
    "\n",
    "print(rentab)"
   ]
  },
  {
   "cell_type": "code",
   "execution_count": null,
   "id": "6944de9d",
   "metadata": {
    "deletable": false,
    "editable": false,
    "nbgrader": {
     "cell_type": "code",
     "checksum": "86b7e21098a4e05e370c6cb87ae4900c",
     "grade": true,
     "grade_id": "cell-04d3b6b8c638587e",
     "locked": true,
     "points": 0.5,
     "schema_version": 3,
     "solution": false,
     "task": false
    }
   },
   "outputs": [],
   "source": []
  },
  {
   "cell_type": "markdown",
   "id": "81a47a64",
   "metadata": {
    "deletable": false,
    "editable": false,
    "nbgrader": {
     "cell_type": "markdown",
     "checksum": "6552346669e2142339e4ff4e1f14c455",
     "grade": false,
     "grade_id": "cell-ad4ddb739ef9ec8f",
     "locked": true,
     "schema_version": 3,
     "solution": false,
     "task": false
    }
   },
   "source": [
    "Muestra el valor de la rentabilidad calculada en una cadena de texto.\n",
    "\n",
    "La cadena de texto final tiene que ser la siguiente: ```Apple obtuvo un rendimiento diario entre los días 28/09/2023 y 29/09/2023 de un 1.58%``` y estar almacenada en la variable ```mensaje```. Debes usar las variables ```fecha_vl_1```, ```fecha_vl_2``` y ```rentab``` para construir la cadena de texto final."
   ]
  },
  {
   "cell_type": "code",
   "execution_count": null,
   "id": "4adea4f0",
   "metadata": {
    "deletable": false,
    "nbgrader": {
     "cell_type": "code",
     "checksum": "ffeaea61e393acb175c72f928e8055df",
     "grade": false,
     "grade_id": "cell-6e5cf3170070bfd5",
     "locked": false,
     "schema_version": 3,
     "solution": true,
     "task": false
    }
   },
   "outputs": [],
   "source": [
    "from datetime import datetime\n",
    "\n",
    "fecha_vl_1 =  # Asigna un valor a fecha_vl_1 utilizando datetime\n",
    "fecha_vl_2 =  # Asigna un valor a fecha_vl_2 utilizando datetime\n",
    "\n",
    "# YOUR CODE HERE\n",
    "raise NotImplementedError()\n",
    "\n",
    "print(mensaje)\n"
   ]
  },
  {
   "cell_type": "code",
   "execution_count": null,
   "id": "81e1f2a8",
   "metadata": {
    "deletable": false,
    "editable": false,
    "nbgrader": {
     "cell_type": "code",
     "checksum": "19a3612967f6f15a8901676725100a6a",
     "grade": true,
     "grade_id": "cell-9834a4d32990072c",
     "locked": true,
     "points": 0.5,
     "schema_version": 3,
     "solution": false,
     "task": false
    }
   },
   "outputs": [],
   "source": []
  },
  {
   "cell_type": "markdown",
   "id": "ff489915",
   "metadata": {
    "deletable": false,
    "editable": false,
    "nbgrader": {
     "cell_type": "markdown",
     "checksum": "e5d04c47f9e5d741ac3c7493c5e77cb1",
     "grade": false,
     "grade_id": "cell-1a136004c24ae7c1",
     "locked": true,
     "schema_version": 3,
     "solution": false,
     "task": false
    }
   },
   "source": [
    "## Ejercicio 6 (1 punto)\n",
    "\n"
   ]
  },
  {
   "cell_type": "markdown",
   "id": "e78bc714",
   "metadata": {
    "deletable": false,
    "editable": false,
    "nbgrader": {
     "cell_type": "markdown",
     "checksum": "bda8b18361adc8c8e7046c91f87f1215",
     "grade": false,
     "grade_id": "cell-f51dfef921f48478",
     "locked": true,
     "schema_version": 3,
     "solution": false,
     "task": false
    }
   },
   "source": [
    "Supongamos que tienes una cuenta de ahorros con un interés anual del 2% y quieres saber cuánto dinero tendrás después de un año si depositas 1000 euros.\n",
    "\n",
    "$VF = VP \\times (1+r)$\n"
   ]
  },
  {
   "cell_type": "markdown",
   "id": "d331b7f9",
   "metadata": {
    "deletable": false,
    "editable": false,
    "nbgrader": {
     "cell_type": "markdown",
     "checksum": "86cb2f8dcf076d16b343273c402408ac",
     "grade": false,
     "grade_id": "cell-1fd198739c4db1ce",
     "locked": true,
     "schema_version": 3,
     "solution": false,
     "task": false
    }
   },
   "source": [
    "* Primero, asigna el valor 1000 a una variable llamada ```saldo_inicial```."
   ]
  },
  {
   "cell_type": "code",
   "execution_count": null,
   "id": "c8b29447",
   "metadata": {
    "deletable": false,
    "nbgrader": {
     "cell_type": "code",
     "checksum": "53af02e690a227e6a5931924b0b1c88f",
     "grade": false,
     "grade_id": "cell-79176afa6cc04914",
     "locked": false,
     "schema_version": 3,
     "solution": true,
     "task": false
    }
   },
   "outputs": [],
   "source": [
    "# YOUR CODE HERE\n",
    "raise NotImplementedError()\n",
    "\n",
    "print(saldo_inicial)"
   ]
  },
  {
   "cell_type": "code",
   "execution_count": null,
   "id": "6a3ff0eb",
   "metadata": {
    "deletable": false,
    "editable": false,
    "nbgrader": {
     "cell_type": "code",
     "checksum": "9098a0b2edbdd809aca6ba5125ee4952",
     "grade": true,
     "grade_id": "cell-0d1fc5c5ddde7289",
     "locked": true,
     "points": 0.25,
     "schema_version": 3,
     "solution": false,
     "task": false
    }
   },
   "outputs": [],
   "source": []
  },
  {
   "cell_type": "markdown",
   "id": "b55b94da",
   "metadata": {
    "deletable": false,
    "editable": false,
    "nbgrader": {
     "cell_type": "markdown",
     "checksum": "8b36ca8a14c32db2a2f16d2154a4a392",
     "grade": false,
     "grade_id": "cell-6c13c6dc68cc670e",
     "locked": true,
     "schema_version": 3,
     "solution": false,
     "task": false
    }
   },
   "source": [
    "* Segundo, calcula el interés que se acumulará en un año multiplicando el saldo inicial por el porcentaje de interés y dividiéndolo por 100. Almacénalo en una variable llamada ```interes```."
   ]
  },
  {
   "cell_type": "code",
   "execution_count": null,
   "id": "e754267e",
   "metadata": {
    "deletable": false,
    "nbgrader": {
     "cell_type": "code",
     "checksum": "5ab527fff7a2e56bbf27b149f1168ea3",
     "grade": false,
     "grade_id": "cell-854b9a2ef96b3712",
     "locked": false,
     "schema_version": 3,
     "solution": true,
     "task": false
    }
   },
   "outputs": [],
   "source": [
    "# Tasa de interés anual\n",
    "r = 2\n",
    "\n",
    "# YOUR CODE HERE\n",
    "raise NotImplementedError()\n",
    "\n",
    "print(interes)"
   ]
  },
  {
   "cell_type": "code",
   "execution_count": null,
   "id": "e15583a6",
   "metadata": {
    "deletable": false,
    "editable": false,
    "nbgrader": {
     "cell_type": "code",
     "checksum": "5253ebb7966e7c5ad5aacadd02d3182c",
     "grade": true,
     "grade_id": "cell-5c0dc054cced4713",
     "locked": true,
     "points": 0.25,
     "schema_version": 3,
     "solution": false,
     "task": false
    }
   },
   "outputs": [],
   "source": []
  },
  {
   "cell_type": "markdown",
   "id": "292e56ea",
   "metadata": {
    "deletable": false,
    "editable": false,
    "nbgrader": {
     "cell_type": "markdown",
     "checksum": "a3ac22592af8c027b49ea92c7d5c572c",
     "grade": false,
     "grade_id": "cell-e0805e9cbe838cc1",
     "locked": true,
     "schema_version": 3,
     "solution": false,
     "task": false
    }
   },
   "source": [
    "* Tercero, suma el saldo inicial y el interés para obtener el saldo final después de un año. Almacénalo en la variable ```saldo_final```"
   ]
  },
  {
   "cell_type": "code",
   "execution_count": null,
   "id": "52189997",
   "metadata": {
    "deletable": false,
    "nbgrader": {
     "cell_type": "code",
     "checksum": "265e53626fbd9172e1e48ed1f587a381",
     "grade": false,
     "grade_id": "cell-a9d612a0cf6e4038",
     "locked": false,
     "schema_version": 3,
     "solution": true,
     "task": false
    }
   },
   "outputs": [],
   "source": [
    "# YOUR CODE HERE\n",
    "raise NotImplementedError()\n",
    "\n",
    "print(saldo_final)"
   ]
  },
  {
   "cell_type": "code",
   "execution_count": null,
   "id": "8f0da6c5",
   "metadata": {
    "deletable": false,
    "editable": false,
    "nbgrader": {
     "cell_type": "code",
     "checksum": "c35fa9c691ab463450cc29b7efe24668",
     "grade": true,
     "grade_id": "cell-c1f214d81aac268b",
     "locked": true,
     "points": 0.25,
     "schema_version": 3,
     "solution": false,
     "task": false
    }
   },
   "outputs": [],
   "source": []
  },
  {
   "cell_type": "markdown",
   "id": "4ab81f7f",
   "metadata": {
    "deletable": false,
    "editable": false,
    "nbgrader": {
     "cell_type": "markdown",
     "checksum": "8c74d8d7ac06b31964b247af481658a5",
     "grade": false,
     "grade_id": "cell-8c21249476e5ed84",
     "locked": true,
     "schema_version": 3,
     "solution": false,
     "task": false
    }
   },
   "source": [
    "* Cuarto, muestra el saldo final con dos decimales y el símbolo del euro. Crea una variable llamada ```mensaje``` que contenga el texto ```El saldo final después de un año es 1020.00€```, usando la variable ```saldo_final``` para mostrar la cifra."
   ]
  },
  {
   "cell_type": "code",
   "execution_count": null,
   "id": "e47cf740",
   "metadata": {
    "deletable": false,
    "nbgrader": {
     "cell_type": "code",
     "checksum": "72b9e019d132046791aab4c2987a7a27",
     "grade": false,
     "grade_id": "cell-b3b76f1b6c7c3575",
     "locked": false,
     "schema_version": 3,
     "solution": true,
     "task": false
    }
   },
   "outputs": [],
   "source": [
    "# YOUR CODE HERE\n",
    "raise NotImplementedError()\n",
    "\n",
    "print(mensaje)"
   ]
  },
  {
   "cell_type": "code",
   "execution_count": null,
   "id": "bbd62894",
   "metadata": {
    "deletable": false,
    "editable": false,
    "nbgrader": {
     "cell_type": "code",
     "checksum": "7aa1bfc08655e2295121e670a6179659",
     "grade": true,
     "grade_id": "cell-c539f89938bf6348",
     "locked": true,
     "points": 0.25,
     "schema_version": 3,
     "solution": false,
     "task": false
    }
   },
   "outputs": [],
   "source": []
  },
  {
   "cell_type": "markdown",
   "id": "efb93ff1",
   "metadata": {
    "deletable": false,
    "editable": false,
    "nbgrader": {
     "cell_type": "markdown",
     "checksum": "78544a8b883389ebe7813721ee176b7e",
     "grade": false,
     "grade_id": "cell-22914d16abfb2e0a",
     "locked": true,
     "schema_version": 3,
     "solution": false,
     "task": false
    }
   },
   "source": [
    "## Ejercicio 7 (1 punto)\n",
    "\n"
   ]
  },
  {
   "cell_type": "markdown",
   "id": "89ba73a6",
   "metadata": {
    "deletable": false,
    "editable": false,
    "nbgrader": {
     "cell_type": "markdown",
     "checksum": "2bccbe37dc3da70ef090f75b14ea3483",
     "grade": false,
     "grade_id": "cell-4759f47d3c8e2227",
     "locked": true,
     "schema_version": 3,
     "solution": false,
     "task": false
    }
   },
   "source": [
    "Supongamos que quieres comprar un ordenador portátil que cuesta 800 euros, pero solo tienes 500 euros ahorrados. Decides pedir un préstamo al banco por la diferencia con un interés anual del 10% y devolverlo en 18 meses."
   ]
  },
  {
   "cell_type": "markdown",
   "id": "1f6dfd53",
   "metadata": {
    "deletable": false,
    "editable": false,
    "nbgrader": {
     "cell_type": "markdown",
     "checksum": "22cd63e0a49296985a67f8ec0fd0e28c",
     "grade": false,
     "grade_id": "cell-1c270fc2751faef3",
     "locked": true,
     "schema_version": 3,
     "solution": false,
     "task": false
    }
   },
   "source": [
    "* Primero, calcula el importe total a devolver al banco. Almacena este valor en la variable ```total_devolver```"
   ]
  },
  {
   "cell_type": "code",
   "execution_count": null,
   "id": "c0d4d7c3",
   "metadata": {
    "deletable": false,
    "nbgrader": {
     "cell_type": "code",
     "checksum": "3ff5d46c5e66a9ea96b708e788d63c93",
     "grade": false,
     "grade_id": "cell-232ce417a49fa0c1",
     "locked": false,
     "schema_version": 3,
     "solution": true,
     "task": false
    }
   },
   "outputs": [],
   "source": [
    "r = 0.10 # Tasa de interés anual del 10%\n",
    "importe_total = 800\n",
    "importe_ahorros = 500\n",
    "cuotas = 18\n",
    "\n",
    "# YOUR CODE HERE\n",
    "raise NotImplementedError()\n",
    "\n",
    "print(total_devolver)"
   ]
  },
  {
   "cell_type": "code",
   "execution_count": null,
   "id": "ed2c0118",
   "metadata": {
    "deletable": false,
    "editable": false,
    "nbgrader": {
     "cell_type": "code",
     "checksum": "4e535609fa63d48d6462cf3a4ca23eaa",
     "grade": true,
     "grade_id": "cell-3190b63d82be068b",
     "locked": true,
     "points": 0.25,
     "schema_version": 3,
     "solution": false,
     "task": false
    }
   },
   "outputs": [],
   "source": []
  },
  {
   "cell_type": "markdown",
   "id": "03e75624",
   "metadata": {
    "deletable": false,
    "editable": false,
    "nbgrader": {
     "cell_type": "markdown",
     "checksum": "7edcf094aed9a0cad8c4ff0d2719bdd2",
     "grade": false,
     "grade_id": "cell-7c107125a3b47cfb",
     "locked": true,
     "schema_version": 3,
     "solution": false,
     "task": false
    }
   },
   "source": [
    "* Segundo, calcula la cuota mensual que tendrás que pagar al banco. Obtén la división entera, es decir, sin decimales, y guárdala en la variable ```cuota``` de tipo entero."
   ]
  },
  {
   "cell_type": "code",
   "execution_count": null,
   "id": "e0805f4c",
   "metadata": {
    "deletable": false,
    "nbgrader": {
     "cell_type": "code",
     "checksum": "810734b74d00f146d690ceb0e5ced5a7",
     "grade": false,
     "grade_id": "cell-78cabf2db7490ce3",
     "locked": false,
     "schema_version": 3,
     "solution": true,
     "task": false
    }
   },
   "outputs": [],
   "source": [
    "# YOUR CODE HERE\n",
    "raise NotImplementedError()\n",
    "\n",
    "print(cuota)"
   ]
  },
  {
   "cell_type": "code",
   "execution_count": null,
   "id": "d5747a01",
   "metadata": {
    "deletable": false,
    "editable": false,
    "nbgrader": {
     "cell_type": "code",
     "checksum": "4dc813b3a5443af95b44ce5295aa35b3",
     "grade": true,
     "grade_id": "cell-7c6f3b4ef0e04a55",
     "locked": true,
     "points": 0.25,
     "schema_version": 3,
     "solution": false,
     "task": false
    }
   },
   "outputs": [],
   "source": []
  },
  {
   "cell_type": "markdown",
   "id": "f7031044",
   "metadata": {
    "deletable": false,
    "editable": false,
    "nbgrader": {
     "cell_type": "markdown",
     "checksum": "3783680348624b0a756f1151d5218b9c",
     "grade": false,
     "grade_id": "cell-0e6498e84784e69d",
     "locked": true,
     "schema_version": 3,
     "solution": false,
     "task": false
    }
   },
   "source": [
    "* Tercero, calcula el resto que te quedará por pagar después de pagar la última cuota. Obtén el módulo, es decir, el residuo de la división entera, y guárdalo en la variable ```resto```."
   ]
  },
  {
   "cell_type": "code",
   "execution_count": null,
   "id": "ac2d0deb",
   "metadata": {
    "deletable": false,
    "nbgrader": {
     "cell_type": "code",
     "checksum": "9c7d97b736c6888377f829bcb525953c",
     "grade": false,
     "grade_id": "cell-84cd871694f79e23",
     "locked": false,
     "schema_version": 3,
     "solution": true,
     "task": false
    }
   },
   "outputs": [],
   "source": [
    "# YOUR CODE HERE\n",
    "raise NotImplementedError()\n",
    "\n",
    "print(resto)"
   ]
  },
  {
   "cell_type": "code",
   "execution_count": null,
   "id": "8f678e84",
   "metadata": {
    "deletable": false,
    "editable": false,
    "nbgrader": {
     "cell_type": "code",
     "checksum": "4a96bf5a2ab0d95292ebbde7031ff5cb",
     "grade": true,
     "grade_id": "cell-d3efa612f2f29807",
     "locked": true,
     "points": 0.25,
     "schema_version": 3,
     "solution": false,
     "task": false
    }
   },
   "outputs": [],
   "source": []
  },
  {
   "cell_type": "markdown",
   "id": "f1898545",
   "metadata": {
    "deletable": false,
    "editable": false,
    "nbgrader": {
     "cell_type": "markdown",
     "checksum": "fc9a73e669c0631d97787106fefa2f60",
     "grade": false,
     "grade_id": "cell-4d4dd0c40497c36c",
     "locked": true,
     "schema_version": 3,
     "solution": false,
     "task": false
    }
   },
   "source": [
    "* Calcula el importe de la última cuota y almacénalo en la variable ```ultima_cuota```\n",
    "* Muestra un mensaje en el que se indique ```Las primeras 17 cuotas serán de 19€, la última cuota será de 25.33€``` utilizando las variables calculadas anteriormente."
   ]
  },
  {
   "cell_type": "code",
   "execution_count": null,
   "id": "c2bcd020",
   "metadata": {
    "deletable": false,
    "nbgrader": {
     "cell_type": "code",
     "checksum": "e159d726215536ee804f484372d8da6d",
     "grade": false,
     "grade_id": "cell-771d1db654ea8489",
     "locked": false,
     "schema_version": 3,
     "solution": true,
     "task": false
    }
   },
   "outputs": [],
   "source": [
    "# YOUR CODE HERE\n",
    "raise NotImplementedError()\n",
    "\n",
    "print(mensaje)"
   ]
  },
  {
   "cell_type": "code",
   "execution_count": null,
   "id": "7ce76171",
   "metadata": {
    "deletable": false,
    "editable": false,
    "nbgrader": {
     "cell_type": "code",
     "checksum": "4caac7c5ac5618c4cda1b59fc190ccaf",
     "grade": true,
     "grade_id": "cell-2bf98eb987d8f66d",
     "locked": true,
     "points": 0.25,
     "schema_version": 3,
     "solution": false,
     "task": false
    }
   },
   "outputs": [],
   "source": []
  },
  {
   "cell_type": "markdown",
   "id": "1d9c2228",
   "metadata": {
    "deletable": false,
    "editable": false,
    "nbgrader": {
     "cell_type": "markdown",
     "checksum": "121c2059fd037872c64026bd5fba2ec0",
     "grade": false,
     "grade_id": "cell-672cad57025da0c4",
     "locked": true,
     "schema_version": 3,
     "solution": false,
     "task": false
    }
   },
   "source": [
    "## Ejercicio 8 (1 punto)\n",
    "\n"
   ]
  },
  {
   "cell_type": "markdown",
   "id": "e599dc66",
   "metadata": {
    "deletable": false,
    "editable": false,
    "nbgrader": {
     "cell_type": "markdown",
     "checksum": "363af55bbf21de95992823c55884a944",
     "grade": false,
     "grade_id": "cell-3c4c513f7eab52cc",
     "locked": true,
     "schema_version": 3,
     "solution": false,
     "task": false
    }
   },
   "source": [
    "Supongamos que queremos escribir un programa que pida al usuario que introduzca una cantidad de dinero en euros y luego le muestre el equivalente en dólares.\n",
    "* Usaremos un tipo de cambio fijo de 1 euro = 1.17 dólares.\n",
    "* El usuario solo puede introducir números válidos, si no, mostrará un mensaje de error.\n",
    "* Debes usar las funciones ```round```, ```str.split``` y ```str.isnumeric``` para este ejercicio.\n",
    "\n",
    "Un ejemplo de salida sería:\n",
    "\n",
    "Introduzca una cantidad de dinero en euros: 50\\\n",
    "El equivalente en dólares es 58.5\n",
    "\n",
    "Otro ejemplo de salida sería:\n",
    "\n",
    "Introduzca una cantidad de dinero en euros: 12.75\\\n",
    "El equivalente en dólares es 14.92\n",
    "\n",
    "Otro ejemplo de salida sería:\n",
    "\n",
    "Introduzca una cantidad de dinero en euros: hola\\\n",
    "Error: por favor, introduzca solo números.\n"
   ]
  },
  {
   "cell_type": "code",
   "execution_count": null,
   "id": "1607f0a7",
   "metadata": {
    "deletable": false,
    "nbgrader": {
     "cell_type": "code",
     "checksum": "a7bab1b2b54d2afdd8948e200f3d3a9f",
     "grade": false,
     "grade_id": "cell-f12cf5e5cf8cc824",
     "locked": false,
     "schema_version": 3,
     "solution": true,
     "task": false
    }
   },
   "outputs": [],
   "source": [
    "# Definimos la tasa de cambio fija\n",
    "tasa = 1.17\n",
    "\n",
    "# YOUR CODE HERE\n",
    "raise NotImplementedError()"
   ]
  },
  {
   "cell_type": "code",
   "execution_count": null,
   "id": "17c73ef9",
   "metadata": {
    "deletable": false,
    "editable": false,
    "nbgrader": {
     "cell_type": "code",
     "checksum": "38e53f13627101f1118e3dfc8d116403",
     "grade": true,
     "grade_id": "cell-8d2aff0fdcf50720",
     "locked": true,
     "points": 1,
     "schema_version": 3,
     "solution": false,
     "task": false
    }
   },
   "outputs": [],
   "source": []
  },
  {
   "cell_type": "markdown",
   "id": "10f7bcc9",
   "metadata": {
    "deletable": false,
    "editable": false,
    "nbgrader": {
     "cell_type": "markdown",
     "checksum": "1af99d30c79bbb4a0f9ba7880aa42f3b",
     "grade": false,
     "grade_id": "cell-e0839fee0bcf11c8",
     "locked": true,
     "schema_version": 3,
     "solution": false,
     "task": false
    }
   },
   "source": [
    "## Ejercicio 9 (1 punto)\n",
    "\n"
   ]
  },
  {
   "cell_type": "markdown",
   "id": "59b6157e",
   "metadata": {
    "deletable": false,
    "editable": false,
    "nbgrader": {
     "cell_type": "markdown",
     "checksum": "feff164d1ecbdf9d94caeaf417f07e1e",
     "grade": false,
     "grade_id": "cell-483021aefd23ed8d",
     "locked": true,
     "schema_version": 3,
     "solution": false,
     "task": false
    }
   },
   "source": [
    "Crea una lista que se llame ```numeros``` con los números del 1 al 20 en orden descendente.\n",
    "\n",
    "Ref.:\n",
    "* https://docs.python.org/3/tutorial/introduction.html#lists\n",
    "* https://docs.python.org/3/tutorial/datastructures.html\n",
    "* https://docs.python.org/3/tutorial/controlflow.html#for-statements\n",
    "* https://docs.python.org/3/tutorial/controlflow.html#the-range-function"
   ]
  },
  {
   "cell_type": "code",
   "execution_count": null,
   "id": "0cf4b0b6",
   "metadata": {
    "deletable": false,
    "nbgrader": {
     "cell_type": "code",
     "checksum": "3a8ae3fd3b892d61d049e3a38a3acabc",
     "grade": false,
     "grade_id": "cell-6312cf4cac45b78d",
     "locked": false,
     "schema_version": 3,
     "solution": true,
     "task": false
    }
   },
   "outputs": [],
   "source": [
    "# YOUR CODE HERE\n",
    "raise NotImplementedError()"
   ]
  },
  {
   "cell_type": "code",
   "execution_count": null,
   "id": "f77b61c3",
   "metadata": {
    "deletable": false,
    "editable": false,
    "nbgrader": {
     "cell_type": "code",
     "checksum": "c19d7a15a24e4b318fffb5577e325e94",
     "grade": true,
     "grade_id": "cell-c29d92e358eb72bb",
     "locked": true,
     "points": 1,
     "schema_version": 3,
     "solution": false,
     "task": false
    }
   },
   "outputs": [],
   "source": []
  },
  {
   "cell_type": "markdown",
   "id": "4e989f44",
   "metadata": {
    "deletable": false,
    "editable": false,
    "nbgrader": {
     "cell_type": "markdown",
     "checksum": "e1c362384435dda4aedfe75077a8cdc5",
     "grade": false,
     "grade_id": "cell-c7b4c32e40078782",
     "locked": true,
     "schema_version": 3,
     "solution": false,
     "task": false
    }
   },
   "source": [
    "## Ejercicio 10 (1 punto)\n",
    "\n",
    "Crea una función que calcule los 20 primeros números de la sucesión de Fibonacci y los almacene en una variable llamada ```numeros```.\n",
    "\n",
    "* Los dos primeros números de la sucesión deben ser ```[0, 1]```\n",
    "* La sucesión que se espera como resultado es ```[0, 1, 1, 2, 3, 5, 8, 13, 21, 34, 55, 89, 144, 233, 377, 610, 987, 1597, 2584, 4181, 6765, 10946]```\n",
    "\n",
    "Ref.:\n",
    "* https://es.wikipedia.org/wiki/Sucesión_de_Fibonacci"
   ]
  },
  {
   "cell_type": "code",
   "execution_count": null,
   "id": "440de336",
   "metadata": {
    "deletable": false,
    "nbgrader": {
     "cell_type": "code",
     "checksum": "a4745465e1bf2885e5f9b88a7f82c41c",
     "grade": false,
     "grade_id": "cell-20b38745a8afe02b",
     "locked": false,
     "schema_version": 3,
     "solution": true,
     "task": false
    }
   },
   "outputs": [],
   "source": [
    "# YOUR CODE HERE\n",
    "raise NotImplementedError()"
   ]
  },
  {
   "cell_type": "code",
   "execution_count": null,
   "id": "64a717cb",
   "metadata": {
    "deletable": false,
    "editable": false,
    "nbgrader": {
     "cell_type": "code",
     "checksum": "002d26980693c540b485f238f6b1a948",
     "grade": true,
     "grade_id": "cell-69e12d30e4ae3559",
     "locked": true,
     "points": 1,
     "schema_version": 3,
     "solution": false,
     "task": false
    }
   },
   "outputs": [],
   "source": []
  }
 ],
 "metadata": {
  "kernelspec": {
   "display_name": "Python 3 (ipykernel)",
   "language": "python",
   "name": "python3"
  },
  "language_info": {
   "codemirror_mode": {
    "name": "ipython",
    "version": 3
   },
   "file_extension": ".py",
   "mimetype": "text/x-python",
   "name": "python",
   "nbconvert_exporter": "python",
   "pygments_lexer": "ipython3",
   "version": "3.10.6"
  }
 },
 "nbformat": 4,
 "nbformat_minor": 5
}
