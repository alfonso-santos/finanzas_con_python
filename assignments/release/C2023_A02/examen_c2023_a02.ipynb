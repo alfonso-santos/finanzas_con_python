{
 "cells": [
  {
   "cell_type": "markdown",
   "id": "9d34527e",
   "metadata": {
    "deletable": false,
    "editable": false,
    "nbgrader": {
     "cell_type": "markdown",
     "checksum": "c92087617c8b52ce8128052c2ffe1850",
     "grade": false,
     "grade_id": "cell-dad30ada11d770dd",
     "locked": true,
     "schema_version": 3,
     "solution": false,
     "task": false
    }
   },
   "source": [
    "# Examen <span style=\"color: #FFA500\">Listas, range y tuplas; Diccionarios; Condicionales y bucles; Funciones</span>"
   ]
  },
  {
   "cell_type": "markdown",
   "id": "97392078",
   "metadata": {
    "deletable": false,
    "editable": false,
    "nbgrader": {
     "cell_type": "markdown",
     "checksum": "6e60f02d2cda462fc5094494030e568a",
     "grade": false,
     "grade_id": "cell-c2385ffba4f49375",
     "locked": true,
     "schema_version": 3,
     "solution": false,
     "task": false
    }
   },
   "source": [
    "## Ejercicio 1 (1 punto)\n",
    "\n",
    "Crea una lista de precios de acciones con los valores ```100, 110, 105, 120 y 115```, almacena la lista en una variable llamada ```px_close``` y calcula el promedio de esos precios y almacénalo en una variable que se llame ```px_promedio```."
   ]
  },
  {
   "cell_type": "code",
   "execution_count": null,
   "id": "d3013dcf-5278-44e6-9145-4f95772fb31f",
   "metadata": {
    "deletable": false,
    "nbgrader": {
     "cell_type": "code",
     "checksum": "a1166807a8af287ae6252c41b620bb6a",
     "grade": false,
     "grade_id": "cell-a6f587282d3bc5c9",
     "locked": false,
     "schema_version": 3,
     "solution": true,
     "task": false
    }
   },
   "outputs": [],
   "source": [
    "# YOUR CODE HERE\n",
    "\n",
    "print(px_promedio)"
   ]
  },
  {
   "cell_type": "code",
   "execution_count": null,
   "id": "ebae3037",
   "metadata": {
    "deletable": false,
    "editable": false,
    "nbgrader": {
     "cell_type": "code",
     "checksum": "e95e7a169ceff48f7776f1e379959a8a",
     "grade": true,
     "grade_id": "cell-ced07adffc4755ba",
     "locked": true,
     "points": 1,
     "schema_version": 3,
     "solution": false,
     "task": false
    }
   },
   "outputs": [],
   "source": []
  },
  {
   "cell_type": "markdown",
   "id": "124c24f3",
   "metadata": {
    "deletable": false,
    "editable": false,
    "nbgrader": {
     "cell_type": "markdown",
     "checksum": "3a2765bbf06d9ef9fc3ad8eb66bbe4c1",
     "grade": false,
     "grade_id": "cell-2093e8dc919164ec",
     "locked": true,
     "schema_version": 3,
     "solution": false,
     "task": false
    }
   },
   "source": [
    "## Ejercicio 2 (1 punto)\n",
    "\n",
    "Diccionarios, listas y tuplas"
   ]
  },
  {
   "cell_type": "markdown",
   "id": "93c9f996",
   "metadata": {
    "deletable": false,
    "editable": false,
    "nbgrader": {
     "cell_type": "markdown",
     "checksum": "dcbdebdd16a4037cd0ee9e0724a9eed0",
     "grade": false,
     "grade_id": "cell-d0cd691b9fab60ce",
     "locked": true,
     "schema_version": 3,
     "solution": false,
     "task": false
    }
   },
   "source": [
    "* Crea un diccionario llamado `inversiones` con las siguientes claves y valores: `\"acciones\" : 5000, \"bonos\" : 3000, \"fondos\" : 2000`.\n"
   ]
  },
  {
   "cell_type": "code",
   "execution_count": null,
   "id": "9336a9e9",
   "metadata": {
    "deletable": false,
    "nbgrader": {
     "cell_type": "code",
     "checksum": "cf589336815564781d7ee8eba27da8aa",
     "grade": false,
     "grade_id": "cell-2dbbf25f3544de72",
     "locked": false,
     "schema_version": 3,
     "solution": true,
     "task": false
    }
   },
   "outputs": [],
   "source": [
    "# YOUR CODE HERE\n",
    "\n",
    "print(inversiones)"
   ]
  },
  {
   "cell_type": "code",
   "execution_count": null,
   "id": "5ce7741a",
   "metadata": {
    "deletable": false,
    "editable": false,
    "nbgrader": {
     "cell_type": "code",
     "checksum": "77dedcf85a1b5554a771ec80fd63a2e1",
     "grade": true,
     "grade_id": "cell-b9e3864f4dd0ca9e",
     "locked": true,
     "points": 0.25,
     "schema_version": 3,
     "solution": false,
     "task": false
    }
   },
   "outputs": [],
   "source": []
  },
  {
   "cell_type": "markdown",
   "id": "3f033199",
   "metadata": {
    "deletable": false,
    "editable": false,
    "nbgrader": {
     "cell_type": "markdown",
     "checksum": "6a2120b9e5cb85625a450b94ed16d7f9",
     "grade": false,
     "grade_id": "cell-ef57b70cdb2ef904",
     "locked": true,
     "schema_version": 3,
     "solution": false,
     "task": false
    }
   },
   "source": [
    "* Obtén las categorías de inversión disponibles y asígnalas a la variable `categorias_inversion` de tipo lista.\n"
   ]
  },
  {
   "cell_type": "code",
   "execution_count": null,
   "id": "04dbf844",
   "metadata": {
    "deletable": false,
    "nbgrader": {
     "cell_type": "code",
     "checksum": "298d815a0810c8bbaf4c0d0179f41295",
     "grade": false,
     "grade_id": "cell-b6836be1fb9a2d2e",
     "locked": false,
     "schema_version": 3,
     "solution": true,
     "task": false
    }
   },
   "outputs": [],
   "source": [
    "# YOUR CODE HERE\n",
    "\n",
    "print(categorias_inversion)"
   ]
  },
  {
   "cell_type": "code",
   "execution_count": null,
   "id": "710a782e",
   "metadata": {
    "deletable": false,
    "editable": false,
    "nbgrader": {
     "cell_type": "code",
     "checksum": "8f430994134d9f9c8c2b35acda2c36bf",
     "grade": true,
     "grade_id": "cell-063be3d5928ebf68",
     "locked": true,
     "points": 0.25,
     "schema_version": 3,
     "solution": false,
     "task": false
    }
   },
   "outputs": [],
   "source": []
  },
  {
   "cell_type": "markdown",
   "id": "acd49336",
   "metadata": {
    "deletable": false,
    "editable": false,
    "nbgrader": {
     "cell_type": "markdown",
     "checksum": "2f1ca5d121773d1c497b4b3fd83b3aaa",
     "grade": false,
     "grade_id": "cell-afc79b32fdbb02b9",
     "locked": true,
     "schema_version": 3,
     "solution": false,
     "task": false
    }
   },
   "source": [
    "* Obtén los montos invertidos en cada categoría y asígnala a la variable `montos_invertidos` de tipo lista.\n"
   ]
  },
  {
   "cell_type": "code",
   "execution_count": null,
   "id": "464052e2",
   "metadata": {
    "deletable": false,
    "nbgrader": {
     "cell_type": "code",
     "checksum": "c46fa785ce1115696e14584fefc727aa",
     "grade": false,
     "grade_id": "cell-15258d1380946676",
     "locked": false,
     "schema_version": 3,
     "solution": true,
     "task": false
    }
   },
   "outputs": [],
   "source": [
    "# YOUR CODE HERE\n",
    "\n",
    "print(montos_invertidos)"
   ]
  },
  {
   "cell_type": "code",
   "execution_count": null,
   "id": "b0d32126",
   "metadata": {
    "deletable": false,
    "editable": false,
    "nbgrader": {
     "cell_type": "code",
     "checksum": "c6335e4ce672ea341c7e915b09bd4b55",
     "grade": true,
     "grade_id": "cell-f12a78965fb2b487",
     "locked": true,
     "points": 0.25,
     "schema_version": 3,
     "solution": false,
     "task": false
    }
   },
   "outputs": [],
   "source": []
  },
  {
   "cell_type": "markdown",
   "id": "edff7897",
   "metadata": {
    "deletable": false,
    "editable": false,
    "nbgrader": {
     "cell_type": "markdown",
     "checksum": "0c79b02e18c02264f98a1a9ba965ef80",
     "grade": false,
     "grade_id": "cell-ec44237df107f8eb",
     "locked": true,
     "schema_version": 3,
     "solution": false,
     "task": false
    }
   },
   "source": [
    "* Obtén las parejas clave-valor (tuplas) y asígnala a la variable `tuplas_categoria_monto` de tipo lista."
   ]
  },
  {
   "cell_type": "code",
   "execution_count": null,
   "id": "9934d7cb",
   "metadata": {
    "deletable": false,
    "nbgrader": {
     "cell_type": "code",
     "checksum": "67d554fbad25bec2a69c4e2aa232ce05",
     "grade": false,
     "grade_id": "cell-0c81a12e167ad5cf",
     "locked": false,
     "schema_version": 3,
     "solution": true,
     "task": false
    }
   },
   "outputs": [],
   "source": [
    "# YOUR CODE HERE"
   ]
  },
  {
   "cell_type": "code",
   "execution_count": null,
   "id": "e7feb01b",
   "metadata": {
    "deletable": false,
    "editable": false,
    "nbgrader": {
     "cell_type": "code",
     "checksum": "a821e7e10c771552542ae7f11891ae26",
     "grade": true,
     "grade_id": "cell-e6dd1c44745e41a6",
     "locked": true,
     "points": 0.25,
     "schema_version": 3,
     "solution": false,
     "task": false
    }
   },
   "outputs": [],
   "source": []
  },
  {
   "cell_type": "markdown",
   "id": "ce283338",
   "metadata": {
    "deletable": false,
    "editable": false,
    "nbgrader": {
     "cell_type": "markdown",
     "checksum": "e4189e9e83a9e9a0846433e337dab8b9",
     "grade": false,
     "grade_id": "cell-59c9b6df57e5c039",
     "locked": true,
     "schema_version": 3,
     "solution": false,
     "task": false
    }
   },
   "source": [
    "## Ejercicio 3 (1 punto)\n",
    "\n",
    "Escribe una función llamada ```calcular_interes``` que reciba dos parámetros:\n",
    "\n",
    "* capital: capital inicial\n",
    "* tasa: tasa de interés anual\n",
    "\n",
    "La función debe devolver el capital final después de un año, aplicando la fórmula $capital \\times (1 + tasa)$.\n",
    "\n",
    "Asegúrate de especificar los tipos de los parámetros, el valor de retorno, y documenta la función con un comentario breve."
   ]
  },
  {
   "cell_type": "code",
   "execution_count": null,
   "id": "55701472",
   "metadata": {
    "deletable": false,
    "nbgrader": {
     "cell_type": "code",
     "checksum": "ec4b6a12497ce28b09be5559973bdab5",
     "grade": false,
     "grade_id": "cell-ce5658ed3f19c3de",
     "locked": false,
     "schema_version": 3,
     "solution": true,
     "task": false
    }
   },
   "outputs": [],
   "source": [
    "# YOUR CODE HERE\n",
    "\n",
    "capital_final = calcular_interes(capital=100, tasa=0.1)\n",
    "\n",
    "print(capital_final)"
   ]
  },
  {
   "cell_type": "code",
   "execution_count": null,
   "id": "dc294d81",
   "metadata": {
    "deletable": false,
    "editable": false,
    "nbgrader": {
     "cell_type": "code",
     "checksum": "a8f68aea94b77b380070ad7a1cdf8e86",
     "grade": true,
     "grade_id": "cell-07ad354fea9f933b",
     "locked": true,
     "points": 1,
     "schema_version": 3,
     "solution": false,
     "task": false
    }
   },
   "outputs": [],
   "source": []
  },
  {
   "cell_type": "markdown",
   "id": "5282b695",
   "metadata": {
    "deletable": false,
    "editable": false,
    "nbgrader": {
     "cell_type": "markdown",
     "checksum": "2c8c6026488cc3ed926680eee28652ce",
     "grade": false,
     "grade_id": "cell-1a3a93450971e641",
     "locked": true,
     "schema_version": 3,
     "solution": false,
     "task": false
    }
   },
   "source": [
    "## Ejercicio 4 (1 punto)\n",
    "\n",
    "Crea una función llamada `positivo_negativo` que recibe un número entero como parámetro y devuelve una cadena como resultado.\n",
    "\n",
    "Esta función debe evaluar si el número recibido como parámetro es positivo, en cuyo caso devolverá como resultado \"positivo\". En caso de ser negativo, devolverá \"negativo\". En caso de ser cero, devolverá \"¯\\\\\\_(ツ)\\_/¯\"\n",
    "\n",
    "Recuerda especificar el tipo del parámetro y el tipo devuelto, así como comentar lo que hace la función."
   ]
  },
  {
   "cell_type": "code",
   "execution_count": null,
   "id": "e9d84e07",
   "metadata": {
    "deletable": false,
    "nbgrader": {
     "cell_type": "code",
     "checksum": "fae9b7b3fddece8fe7b05cb51d1a978b",
     "grade": false,
     "grade_id": "cell-a0562bc672206f59",
     "locked": false,
     "schema_version": 3,
     "solution": true,
     "task": false
    }
   },
   "outputs": [],
   "source": [
    "# YOUR CODE HERE\n"
   ]
  },
  {
   "cell_type": "code",
   "execution_count": null,
   "id": "7c58c543",
   "metadata": {
    "deletable": false,
    "editable": false,
    "nbgrader": {
     "cell_type": "code",
     "checksum": "e6329e6072696b141379fb4563e8fe66",
     "grade": true,
     "grade_id": "cell-3704d6e5b06ea572",
     "locked": true,
     "points": 1,
     "schema_version": 3,
     "solution": false,
     "task": false
    }
   },
   "outputs": [],
   "source": []
  },
  {
   "cell_type": "markdown",
   "id": "d3614a77",
   "metadata": {
    "deletable": false,
    "editable": false,
    "nbgrader": {
     "cell_type": "markdown",
     "checksum": "e1ab79a227c5bc840398d4f86641d820",
     "grade": false,
     "grade_id": "cell-e40cc83c7a7267d4",
     "locked": true,
     "schema_version": 3,
     "solution": false,
     "task": false
    }
   },
   "source": [
    "## Ejercicio 5 (2 puntos)\n",
    "\n",
    "* Crea una variable de tipo `range` llamada `rango_precios` con los siguientes valores: `100, 150, 200, 250, 300`. \n",
    "* Crea una variable de tipo `list` llamada `precios` a partir de `rango_precios`.\n",
    "* Luego, usa un bucle `for` para recorrer la lista y aplicar un descuento del 10% a cada elemento que sea mayor que 200, guardando el resultado en una nueva lista llamada `descuentos`.\n",
    "* La lista `descuentos` debe contener tanto los precios a los que se les ha aplicado un descuento como los que no."
   ]
  },
  {
   "cell_type": "code",
   "execution_count": null,
   "id": "bd316867",
   "metadata": {
    "deletable": false,
    "nbgrader": {
     "cell_type": "code",
     "checksum": "5a912e989cf83a2edfe63a428155038e",
     "grade": false,
     "grade_id": "cell-6eb36dd3bee5b0aa",
     "locked": false,
     "schema_version": 3,
     "solution": true,
     "task": false
    }
   },
   "outputs": [],
   "source": [
    "# YOUR CODE HERE\n",
    "\n",
    "print(precios)\n",
    "print(descuentos)"
   ]
  },
  {
   "cell_type": "code",
   "execution_count": null,
   "id": "8b6f8696",
   "metadata": {
    "deletable": false,
    "editable": false,
    "nbgrader": {
     "cell_type": "code",
     "checksum": "a84c001b238e30e257187c59aa9d4878",
     "grade": true,
     "grade_id": "cell-40abc586ebec6f12",
     "locked": true,
     "points": 1,
     "schema_version": 3,
     "solution": false,
     "task": false
    }
   },
   "outputs": [],
   "source": []
  },
  {
   "cell_type": "markdown",
   "id": "3b0f57f3",
   "metadata": {
    "deletable": false,
    "editable": false,
    "nbgrader": {
     "cell_type": "markdown",
     "checksum": "23e91a5904f182ec3eaa08ecabf0ccf5",
     "grade": false,
     "grade_id": "cell-7b8a57e4ab43954f",
     "locked": true,
     "schema_version": 3,
     "solution": false,
     "task": false
    }
   },
   "source": [
    "Modifica el algoritmo anterior para que los descuentos se apliquen de la siguiente manera:\n",
    "* Un 10% para los precios entre 150 y 250 ambos incluidos\n",
    "* un 20% para los precios estrictamente mayores de 250"
   ]
  },
  {
   "cell_type": "code",
   "execution_count": null,
   "id": "7fa4d072",
   "metadata": {
    "deletable": false,
    "nbgrader": {
     "cell_type": "code",
     "checksum": "661fc9f1d2934c0107c28244f293ab42",
     "grade": false,
     "grade_id": "cell-055c8a353897b049",
     "locked": false,
     "schema_version": 3,
     "solution": true,
     "task": false
    }
   },
   "outputs": [],
   "source": [
    "# YOUR CODE HERE\n",
    "\n",
    "print(precios)\n",
    "print(descuentos)"
   ]
  },
  {
   "cell_type": "code",
   "execution_count": null,
   "id": "4525b3f1",
   "metadata": {
    "deletable": false,
    "editable": false,
    "nbgrader": {
     "cell_type": "code",
     "checksum": "07b70749581f23d076f6b21bc97cb160",
     "grade": true,
     "grade_id": "cell-a6261c2195b62e93",
     "locked": true,
     "points": 1,
     "schema_version": 3,
     "solution": false,
     "task": false
    }
   },
   "outputs": [],
   "source": []
  },
  {
   "cell_type": "markdown",
   "id": "ff61d3c2",
   "metadata": {
    "deletable": false,
    "editable": false,
    "nbgrader": {
     "cell_type": "markdown",
     "checksum": "ddccdc2f51baf6b6673fd510d402c174",
     "grade": false,
     "grade_id": "cell-a4891b3d0d3a344a",
     "locked": true,
     "schema_version": 3,
     "solution": false,
     "task": false
    }
   },
   "source": [
    "## Ejercicio 4 (3 puntos)\n",
    "\n",
    "Crea un diccionario llamado `divisas` con las siguientes claves y valores: `\"USD\": 1.18, \"GBP\": 0.86, \"JPY\": 130.15, \"CHF\": 1.09`, que representan las tasas de cambio del euro con el dólar estadounidense, la libra esterlina, el yen japonés y el franco suizo, respectivamente.\n",
    "\n",
    "A continuación, crea una función llamada `equivalente_en_divisa` que recibe los siguientes parámetros:\n",
    "* El diccionario de conversión de divisas (`dict`)\n",
    "* La divisa destino (`str`)\n",
    "* La cantidad de euros (`float`)\n",
    "\n",
    "Y devuelve la cantidad en divisa equivalente a los euros que se pasan por parámetro redondeando a dos decimales.\n",
    "\n",
    "Luego, pide al usuario que introduzca una cantidad en euros y una divisa de destino (por ejemplo, \"USD\" o \"JPY\").\n",
    "\n",
    "Comprueba que la cantidad en euros sea un número válido. Si es un número válido, entonces podrás pedir la divisa de destino. Comprueba que la divisa de destino es una divisa que esté contenida en el diccionario de divisas. Si es una divisa válida, entonces calcula la conversión de euros a la divisa destino.\n",
    "\n",
    "Tanto si no es un número válido, como si no es una divisa válida, deberás mostrar un mensaje de error.\n",
    "\n",
    "Por último imprime la cantidad en euros y su equivalente en la divisa destino en una cadena de texto como la siguiente: `100.0 euros son 118.0 USD`"
   ]
  },
  {
   "cell_type": "code",
   "execution_count": null,
   "id": "5e60f23e",
   "metadata": {
    "deletable": false,
    "nbgrader": {
     "cell_type": "code",
     "checksum": "0effd7e94b56d1d981e3482fb20097a3",
     "grade": false,
     "grade_id": "cell-7d5d758b20dceb89",
     "locked": false,
     "schema_version": 3,
     "solution": true,
     "task": false
    }
   },
   "outputs": [],
   "source": [
    "def comprobar_si_es_numero(numero:str)->bool:\n",
    "    \"\"\"Comprueba si una cadena es un número válido.\n",
    "\n",
    "    Args:\n",
    "        numero (str): cadena con el número a comprobar\n",
    "\n",
    "    Returns:\n",
    "        bool: True si la cadena es un número válido, False en caso contrario\n",
    "    \"\"\"\n",
    "    # Comprobar si el usuario ha introducido solo números\n",
    "    # Para ello, se puede usar la función str.split para separar la parte entera y la decimal por el punto\n",
    "    # y luego usar la función str.isnumeric para ver si ambas partes son numéricas\n",
    "    # Una cadena es numérica si todos los caracteres son numéricos y hay al menos un caracter.\n",
    "    partes = numero.split(\".\")\n",
    "    if len(partes) == 1 and partes[0].isnumeric():\n",
    "        # El usuario ha introducido un número entero\n",
    "        valido = True\n",
    "    elif len(partes) == 2 and partes[0].isnumeric() and partes[1].isnumeric():\n",
    "        # El usuario ha introducido un número decimal\n",
    "        valido = True\n",
    "    else:\n",
    "        # El usuario ha introducido algo que no es un número\n",
    "        valido = False\n",
    "    \n",
    "    return valido\n",
    "\n",
    "# YOUR CODE HERE"
   ]
  },
  {
   "cell_type": "code",
   "execution_count": null,
   "id": "1fa892ad",
   "metadata": {
    "deletable": false,
    "editable": false,
    "nbgrader": {
     "cell_type": "code",
     "checksum": "b5a2c4ca71aeec3de147bc959c725ae0",
     "grade": true,
     "grade_id": "cell-fc3f28a24a73aeee",
     "locked": true,
     "points": 3,
     "schema_version": 3,
     "solution": false,
     "task": false
    }
   },
   "outputs": [],
   "source": []
  },
  {
   "cell_type": "markdown",
   "id": "bb8b3520",
   "metadata": {
    "deletable": false,
    "editable": false,
    "nbgrader": {
     "cell_type": "markdown",
     "checksum": "f18c0e2bd6ff32c482b3b2c51bd396fd",
     "grade": false,
     "grade_id": "cell-7077280e81c6822a",
     "locked": true,
     "schema_version": 3,
     "solution": false,
     "task": false
    }
   },
   "source": [
    "## Ejercicio 5 (1 punto)\n"
   ]
  },
  {
   "cell_type": "markdown",
   "id": "9c2bc73a",
   "metadata": {
    "deletable": false,
    "editable": false,
    "nbgrader": {
     "cell_type": "markdown",
     "checksum": "ef38c3a39523622a4cc8dcf7ac228c13",
     "grade": false,
     "grade_id": "cell-e4acf829bf50e32a",
     "locked": true,
     "schema_version": 3,
     "solution": false,
     "task": false
    }
   },
   "source": [
    "\n",
    "* Crea una lista llamada `inversiones` con las siguientes cantidades invertidas en miles de dólares: 500, 800, 300, 1200, 700.\n"
   ]
  },
  {
   "cell_type": "code",
   "execution_count": null,
   "id": "429cf7d3",
   "metadata": {
    "deletable": false,
    "nbgrader": {
     "cell_type": "code",
     "checksum": "12763b7710e78f54e8b1eca18042e334",
     "grade": false,
     "grade_id": "cell-d5a4347db7f0c79e",
     "locked": false,
     "schema_version": 3,
     "solution": true,
     "task": false
    }
   },
   "outputs": [],
   "source": [
    "# YOUR CODE HERE"
   ]
  },
  {
   "cell_type": "code",
   "execution_count": null,
   "id": "275ffd18",
   "metadata": {
    "deletable": false,
    "editable": false,
    "nbgrader": {
     "cell_type": "code",
     "checksum": "b6850a82eaa90a500a7451d29f7abe80",
     "grade": true,
     "grade_id": "cell-5a151b1e52998a4c",
     "locked": true,
     "points": 0.1,
     "schema_version": 3,
     "solution": false,
     "task": false
    }
   },
   "outputs": [],
   "source": []
  },
  {
   "cell_type": "markdown",
   "id": "56b4261c",
   "metadata": {
    "deletable": false,
    "editable": false,
    "nbgrader": {
     "cell_type": "markdown",
     "checksum": "28666ceef17ded0dca137494fc08185b",
     "grade": false,
     "grade_id": "cell-7c229b1c3ea89c97",
     "locked": true,
     "schema_version": 3,
     "solution": false,
     "task": false
    }
   },
   "source": [
    "* Utiliza la biblioteca NumPy (https://numpy.org) para convertir esta lista en un array NumPy llamado \"inversiones_arr\".\n"
   ]
  },
  {
   "cell_type": "code",
   "execution_count": null,
   "id": "3e5f4b98",
   "metadata": {
    "deletable": false,
    "nbgrader": {
     "cell_type": "code",
     "checksum": "f48b29b7c54a1b2cb013c5bbb41c1719",
     "grade": false,
     "grade_id": "cell-7a8b5b4610ebbcb2",
     "locked": false,
     "schema_version": 3,
     "solution": true,
     "task": false
    }
   },
   "outputs": [],
   "source": [
    "import numpy as np\n",
    "\n",
    "# YOUR CODE HERE"
   ]
  },
  {
   "cell_type": "code",
   "execution_count": null,
   "id": "4ba81a1b",
   "metadata": {
    "deletable": false,
    "editable": false,
    "nbgrader": {
     "cell_type": "code",
     "checksum": "c1aecf7894d35c21525cde8d7bc2c1c8",
     "grade": true,
     "grade_id": "cell-3e11246ff1dcfa18",
     "locked": true,
     "points": 0.2,
     "schema_version": 3,
     "solution": false,
     "task": false
    }
   },
   "outputs": [],
   "source": []
  },
  {
   "cell_type": "markdown",
   "id": "cfd929fe",
   "metadata": {
    "deletable": false,
    "editable": false,
    "nbgrader": {
     "cell_type": "markdown",
     "checksum": "384960bf29bf7a8088528c1e4d4d9566",
     "grade": false,
     "grade_id": "cell-c1cd34ec3c35101e",
     "locked": true,
     "schema_version": 3,
     "solution": false,
     "task": false
    }
   },
   "source": [
    "* Calcula la media (promedio) de los montos invertidos utilizando NumPy y guárdala en una variable llamada `media_inversiones`.\n"
   ]
  },
  {
   "cell_type": "code",
   "execution_count": null,
   "id": "e4e191f3",
   "metadata": {
    "deletable": false,
    "nbgrader": {
     "cell_type": "code",
     "checksum": "b9d5eb045e5be33f2763424da78ab972",
     "grade": false,
     "grade_id": "cell-4231ef4b6402443d",
     "locked": false,
     "schema_version": 3,
     "solution": true,
     "task": false
    }
   },
   "outputs": [],
   "source": [
    "# YOUR CODE HERE\n",
    "\n",
    "print(media_inversiones)"
   ]
  },
  {
   "cell_type": "code",
   "execution_count": null,
   "id": "d7fd54dd",
   "metadata": {
    "deletable": false,
    "editable": false,
    "nbgrader": {
     "cell_type": "code",
     "checksum": "be22279cf00e085ec6b54cd2ac786ccb",
     "grade": true,
     "grade_id": "cell-8719367195f046f1",
     "locked": true,
     "points": 0.2,
     "schema_version": 3,
     "solution": false,
     "task": false
    }
   },
   "outputs": [],
   "source": []
  },
  {
   "cell_type": "markdown",
   "id": "ce6487fd",
   "metadata": {
    "deletable": false,
    "editable": false,
    "nbgrader": {
     "cell_type": "markdown",
     "checksum": "4eaf0c3e6a37fab4b56837f54d8f5cf8",
     "grade": false,
     "grade_id": "cell-412e76ed267b99e5",
     "locked": true,
     "schema_version": 3,
     "solution": false,
     "task": false
    }
   },
   "source": [
    "* Crea una tupla llamada `categorías` con las siguientes categorías de inversión: \"acciones\", \"bonos\", \"fondos\", \"propiedades\", \"efectivo\".\n"
   ]
  },
  {
   "cell_type": "code",
   "execution_count": null,
   "id": "23664989",
   "metadata": {
    "deletable": false,
    "nbgrader": {
     "cell_type": "code",
     "checksum": "e927083b0baa90797b8e5656a3414e61",
     "grade": false,
     "grade_id": "cell-aa9b573133b54692",
     "locked": false,
     "schema_version": 3,
     "solution": true,
     "task": false
    }
   },
   "outputs": [],
   "source": [
    "# YOUR CODE HERE\n",
    "\n",
    "print(categorias)"
   ]
  },
  {
   "cell_type": "code",
   "execution_count": null,
   "id": "6c7865c4",
   "metadata": {
    "deletable": false,
    "editable": false,
    "nbgrader": {
     "cell_type": "code",
     "checksum": "f22c56c0fe66730fd7b7128dd2d45f3e",
     "grade": true,
     "grade_id": "cell-e24671d4b09f222b",
     "locked": true,
     "points": 0.1,
     "schema_version": 3,
     "solution": false,
     "task": false
    }
   },
   "outputs": [],
   "source": []
  },
  {
   "cell_type": "markdown",
   "id": "bff8e2ac",
   "metadata": {
    "deletable": false,
    "editable": false,
    "nbgrader": {
     "cell_type": "markdown",
     "checksum": "083cd65d3326168b82e0aaa1989f307a",
     "grade": false,
     "grade_id": "cell-60f20d28c0504194",
     "locked": true,
     "schema_version": 3,
     "solution": false,
     "task": false
    }
   },
   "source": [
    "* Utiliza la función `zip()` (https://www.w3schools.com/python/ref_func_zip.asp) para crear un diccionario que se llame `categorias_inversiones` que mapee cada categoría a su respectiva cantidad invertida en miles de dólares.\n"
   ]
  },
  {
   "cell_type": "code",
   "execution_count": null,
   "id": "8220d868",
   "metadata": {
    "deletable": false,
    "nbgrader": {
     "cell_type": "code",
     "checksum": "6f693686281e53a2027016304c64210e",
     "grade": false,
     "grade_id": "cell-38698959eca0454c",
     "locked": false,
     "schema_version": 3,
     "solution": true,
     "task": false
    }
   },
   "outputs": [],
   "source": [
    "# YOUR CODE HERE"
   ]
  },
  {
   "cell_type": "code",
   "execution_count": null,
   "id": "55a7bdb3",
   "metadata": {
    "deletable": false,
    "editable": false,
    "nbgrader": {
     "cell_type": "code",
     "checksum": "979b9afb4f649b879f12d04b129a37f4",
     "grade": true,
     "grade_id": "cell-f02efff658f6881f",
     "locked": true,
     "points": 0.2,
     "schema_version": 3,
     "solution": false,
     "task": false
    }
   },
   "outputs": [],
   "source": []
  },
  {
   "cell_type": "markdown",
   "id": "e15ee142",
   "metadata": {
    "deletable": false,
    "editable": false,
    "nbgrader": {
     "cell_type": "markdown",
     "checksum": "7135c9afbfeb1e13e31e65915e4dd776",
     "grade": false,
     "grade_id": "cell-30cbe8dda64b4d75",
     "locked": true,
     "schema_version": 3,
     "solution": false,
     "task": false
    }
   },
   "source": [
    "* Finalmente, utiliza NumPy para calcular la desviación estándar de los montos invertidos y guárdala en una variable llamada `desviacion_estandar`."
   ]
  },
  {
   "cell_type": "code",
   "execution_count": null,
   "id": "a1ed1e25",
   "metadata": {
    "deletable": false,
    "nbgrader": {
     "cell_type": "code",
     "checksum": "657895cdbaff36ac23546c79d249f36c",
     "grade": false,
     "grade_id": "cell-ba7db0b3d2064b89",
     "locked": false,
     "schema_version": 3,
     "solution": true,
     "task": false
    }
   },
   "outputs": [],
   "source": [
    "# YOUR CODE HERE\n",
    "\n",
    "print(desviacion_estandar)"
   ]
  },
  {
   "cell_type": "code",
   "execution_count": null,
   "id": "127c11ac",
   "metadata": {
    "deletable": false,
    "editable": false,
    "nbgrader": {
     "cell_type": "code",
     "checksum": "dc627ff83f7c4db8d274929ed1325f7c",
     "grade": true,
     "grade_id": "cell-11b0c18b7e8563a6",
     "locked": true,
     "points": 0.2,
     "schema_version": 3,
     "solution": false,
     "task": false
    }
   },
   "outputs": [],
   "source": []
  }
 ],
 "metadata": {
  "kernelspec": {
   "display_name": "Python 3 (ipykernel)",
   "language": "python",
   "name": "python3"
  },
  "language_info": {
   "codemirror_mode": {
    "name": "ipython",
    "version": 3
   },
   "file_extension": ".py",
   "mimetype": "text/x-python",
   "name": "python",
   "nbconvert_exporter": "python",
   "pygments_lexer": "ipython3",
   "version": "3.10.3"
  }
 },
 "nbformat": 4,
 "nbformat_minor": 5
}
