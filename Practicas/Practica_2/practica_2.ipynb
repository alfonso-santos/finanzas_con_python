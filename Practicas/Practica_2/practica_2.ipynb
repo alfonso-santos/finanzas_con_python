{
 "cells": [
  {
   "cell_type": "markdown",
   "metadata": {},
   "source": [
    "**Ejercicio 1** Vamos a descargar el stock de *Berkshire Hathaway Inc Class A* de yahoo finance, del cual tendremos que calcular los siquientes datos:\n",
    "- Realiza un análisis del stock\n",
    "- Max Drawdown en ventana rollada de 15 días\n",
    "- Calmar Ratio en ventana rollada de 15 días con apply"
   ]
  },
  {
   "cell_type": "code",
   "execution_count": null,
   "metadata": {},
   "outputs": [],
   "source": []
  },
  {
   "cell_type": "markdown",
   "metadata": {},
   "source": [
    "**Ejercicio 2**  Con el anterior stock vamos a realizar 1000 simulaciones a 3 meses (con todos los días de por medio), con el método de montecarlo y de bootstrapping.\n",
    "- Vamos a obtener el percentil 95 y 99 de ambos.\n",
    "- Compara ambos y dí cuál es su diferencia."
   ]
  },
  {
   "cell_type": "code",
   "execution_count": null,
   "metadata": {},
   "outputs": [],
   "source": []
  },
  {
   "cell_type": "markdown",
   "metadata": {},
   "source": [
    "**Ejercicio 3** Dados los stocks Repsol, Santander, Microsoft y Pfizer.\n",
    "- Descarga los datos de todos desde 2015 hasta 2019\n",
    "- Obten la cartera con el mejor ratio de sharpe usando montecarlo\n",
    "- Obten la cartera de mínima volatilidad\n",
    "- Grafica los datos para tener una visión de la frontera\n",
    "- **(Extra)** Calcula la frontera eficiente mediante optimizacion cuadrática y grafica la solución junto con los datos anteriores."
   ]
  },
  {
   "cell_type": "code",
   "execution_count": null,
   "metadata": {},
   "outputs": [],
   "source": []
  },
  {
   "cell_type": "markdown",
   "metadata": {},
   "source": [
    "**Ejercicio 4** Dados los datos del archivo *TTI.csv* :\n",
    "- Calcula la curva de tipos\n",
    "- Graficala\n",
    "- Razona si comprarías un bono con precio X con vecimiento Y"
   ]
  },
  {
   "cell_type": "code",
   "execution_count": null,
   "metadata": {},
   "outputs": [],
   "source": []
  },
  {
   "cell_type": "markdown",
   "metadata": {},
   "source": [
    "**Ejercio 5** Dados los datos del archivo *Opciones.csv* :\n",
    "- Calcula la volatilidad implicita para todas las fechas.\n",
    "- Valora los strikes desde X hasta Y para todas las fechas.\n",
    "- **(Extra)** Muestra un gráfico de la supercicie de volatilidad.\n"
   ]
  }
 ],
 "metadata": {
  "kernelspec": {
   "display_name": "Python 3.8.8 ('base')",
   "language": "python",
   "name": "python3"
  },
  "language_info": {
   "name": "python",
   "version": "3.8.8"
  },
  "orig_nbformat": 4,
  "vscode": {
   "interpreter": {
    "hash": "3a2a03ea413f8be244ba01daf0e257f98f0dabeb03c7836e7000a0f3738aa8c9"
   }
  }
 },
 "nbformat": 4,
 "nbformat_minor": 2
}
