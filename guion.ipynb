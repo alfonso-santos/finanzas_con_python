{
 "cells": [
  {
   "cell_type": "markdown",
   "metadata": {},
   "source": [
    "* Introducción\n",
    "    * Google Colab: cómo conectarse y crear el primer notebook\n",
    "    * Jupyter Notebooks: comandos básicos sin usar mucho shortcut (código y markdown)\n",
    "* Python Core\n",
    "    * Sintaxis básica (no ayuda, usar Google)\n",
    "    * Variables: tipos básicos\n",
    "    * Operadores: aritméticos, comparación, lógicos\n",
    "    * Funciones incorporadas: conversión entre tipos, input, print, len, type, round\n",
    "    * Strings: formateo, split, concatenación\n",
    "* Listas, range y tuplas\n",
    "    * Creación y acceso\n",
    "    * Range, range a lista\n",
    "    * Métodos de listas: append, sort, reverse, sum, min, max, index, in, not in, copy\n",
    "    * Tuplas: creación y mapping\n",
    "* Diccionarios\n",
    "    * Creación y acceso\n",
    "    * Métodos: keys, values, items\n",
    "* Condicionales y bucles\n",
    "    * if, if else, elif\n",
    "    * for, for anidado\n",
    "    * while\n",
    "    * break, continue\n",
    "* Funciones\n",
    "    * Creación, parámetros, parámetros por defecto\n",
    "    * Especificación de tipos, documentación\n",
    "    * Contexto de las variables\n",
    "* Numpy\n",
    "* Pandas\n",
    "* Series temporales\n",
    "* Visualización\n",
    "* Tratamiento de datos\n"
   ]
  }
 ],
 "metadata": {
  "kernelspec": {
   "display_name": ".venv",
   "language": "python",
   "name": "python3"
  },
  "language_info": {
   "codemirror_mode": {
    "name": "ipython",
    "version": 3
   },
   "file_extension": ".py",
   "mimetype": "text/x-python",
   "name": "python",
   "nbconvert_exporter": "python",
   "pygments_lexer": "ipython3",
   "version": "3.10.6"
  },
  "orig_nbformat": 4
 },
 "nbformat": 4,
 "nbformat_minor": 2
}
